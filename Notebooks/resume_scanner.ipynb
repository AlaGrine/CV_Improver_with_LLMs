{
 "cells": [
  {
   "cell_type": "markdown",
   "id": "304d4346-3cf6-488c-ab9a-39e4561a15dc",
   "metadata": {},
   "source": [
    "# 🔎 Resume scanner: 🚀 Leverage the power of LLM to improve your resume\n",
    "### 🚀 Build a Streamlit application powered by Langchain, OpenAI and Google Generative AI"
   ]
  },
  {
   "cell_type": "markdown",
   "id": "18f8d481",
   "metadata": {},
   "source": [
    "## Table of Contents\n",
    "\n",
    "1. [Introduction](#intro)<br>\n",
    "2. [Setup](#setup)<br>\n",
    "    2.1. [Import](#import)<br>\n",
    "    2.2. [API keys](#apikeys)<br>\n",
    "3. [Retrieval](#retrieval)<br>\n",
    "    3.1. [Upload resume](#uploadResume)<br>\n",
    "    3.2. [Token Count](#tokenCount)<br>\n",
    "    3.3. [Embeddings](#embeddings)<br>\n",
    "    3.4. [Vectorstores](#vectorstores)<br>\n",
    "    3.5. [Vectorstore-backed retriever](#retriever)<br>\n",
    "    3.6. [Cohere reranker](#cohere)<br>\n",
    "4. [Instantiate LLMs](#llm)<br>    \n",
    "5. [Resume Scanner](#scanner)<br>\n",
    "    5.1  [Prompt Templates](#prompt_templates)<br>\n",
    "    5.2. [Invoke LLMs](#invoke_llms)<br>\n",
    "    5.3. [Contact Information](#contact_info)<br>\n",
    "    5.4. [Summary](#summary)<br>\n",
    "    5.5. [Education and Language](#edu_n_language)<br>\n",
    "    5.6. [Skills and  Certifications](#skills_certifs)<br>\n",
    "    5.7. [Work experience and Projects](#professional)<br>\n",
    "    5.8. [Work experience responsibilities and project details](#professional_details)<br>\n",
    "    5.9. [Improve the work experience section](#improve_workExp)<br>\n",
    "    5.10. [Improve the projects section](#improve_projects)<br>\n",
    "    5.11. [Evaluate the Resume](#evaluate_resume)<br>\n",
    "    5.12. [Putting it all together](#recap)<br>\n",
    "7. [Streamlit application](#app)<br> \n",
    "8. [Concluding](#conclusion)<br> "
   ]
  },
  {
   "cell_type": "markdown",
   "id": "50f859e2-b019-4454-9ee2-e22a4f5e10fe",
   "metadata": {},
   "source": [
    "# <a class=\"anchor\" id=\"intro\">Introduction</a>\n",
    "\n",
    "This project aims to build a WEB application in [Streamlit](https://streamlit.io/) that will scan and improve a resume using instruction-tuned Large Language Models (LLMs).\n",
    "\n",
    "This is how the app should work: The first step is to upload a CV in PDF format. The app will then extract all the information, such as contact details, summary, work experience and skills. It will assess the quality of each section and return a score from 0 to 100. The app will also suggest improvements to make the text more appealing to recruiters.\n",
    "\r\n",
    "We will leverage the power of LLMs, specifically Chat GPT from [OpenAI](https://platform.openai.com/overview) and Gemini-pro from [Google](https://ai.google.dev/?hl=en), to extract, assess, and enhance resumes\n",
    ".\r\n",
    "We will use [Langchain](https://python.langchain.com/docs/get_started/introduction), prompt engineering, and retrieval augmented generation techniques to complete these steps.\r\n"
   ]
  },
  {
   "cell_type": "markdown",
   "id": "ef2b25d7",
   "metadata": {},
   "source": [
    "# <a class=\"anchor\" id=\"setup\">Setup</a>\n",
    "\n",
    "Before we get started, we need to import the relevant Python libraries and LLM API keys."
   ]
  },
  {
   "cell_type": "markdown",
   "id": "f4372f9d-4d97-4849-8ab9-3ee12170b067",
   "metadata": {},
   "source": [
    "## <a class=\"anchor\" id=\"import\">Import libraries</a>"
   ]
  },
  {
   "cell_type": "code",
   "execution_count": null,
   "id": "f8d50a31-4aa0-4b89-b2a1-c47d79884dc9",
   "metadata": {},
   "outputs": [],
   "source": [
    "# !pip install langchain==0.1.4\n",
    "# !pip install langchain-google-genai==0.0.6\n",
    "# !pip install langchain-openai==0.0.2.post1\n",
    "# !pip install langchain-community==0.0.19\n",
    "# !pip install cohere\n",
    "# !pip install tiktoken==0.5.2\n",
    "# !pip install Pillow\n",
    "# !pip install faiss-cpu\n",
    "# !pip install python-dotenv\n",
    "# !pip install markdown\n",
    "# !pip install pdfminer.six\n",
    "# !pip install streamlit==1.28.0"
   ]
  },
  {
   "cell_type": "code",
   "execution_count": 1,
   "id": "249e8a6b-fc11-4653-9cfe-7687bac346ca",
   "metadata": {},
   "outputs": [],
   "source": [
    "# Langchain\n",
    "from langchain_openai import ChatOpenAI\n",
    "from langchain_google_genai import ChatGoogleGenerativeAI\n",
    "from langchain.prompts import PromptTemplate\n",
    "\n",
    "from langchain_community.document_loaders import PDFMinerLoader, TextLoader, Docx2txtLoader\n",
    "\n",
    "from langchain.retrievers import ContextualCompressionRetriever\n",
    "from langchain.retrievers.document_compressors import CohereRerank\n",
    "from langchain_community.llms import Cohere\n",
    "\n",
    "from langchain_openai import OpenAIEmbeddings\n",
    "from langchain_google_genai import GoogleGenerativeAIEmbeddings\n",
    "\n",
    "from langchain_community.vectorstores import FAISS\n",
    "\n",
    "# Other libraries\n",
    "import datetime, json, os, tiktoken\n",
    "from IPython.display import Markdown\n",
    "from dotenv import load_dotenv, find_dotenv\n",
    "from PIL import Image\n",
    "\n",
    "import warnings\n",
    "warnings.filterwarnings(\"ignore\", category=FutureWarning)"
   ]
  },
  {
   "cell_type": "code",
   "execution_count": 2,
   "id": "eaa62c11-f27d-4be2-815d-0e3e0b560285",
   "metadata": {},
   "outputs": [],
   "source": [
    "# Feel free to update the assistant language.\n",
    "ASSISTAN_LANGUAGE = \"english\""
   ]
  },
  {
   "cell_type": "markdown",
   "id": "33214148-b61f-4d63-9385-7b48c3fd8eb6",
   "metadata": {},
   "source": [
    "## <a class=\"anchor\" id=\"apikeys\">API Keys</a>\n",
    "\n",
    "Our application requires API keys from OpenAI, Google and Cohere.\n",
    "- **OpenAI** API key: [Get an API key](https://platform.openai.com/account/api-keys)\n",
    "- **Google** API key: [Get an API key](https://makersuite.google.com/app/apikey)\n",
    "- **Cohere** API key: [Get an API key](https://dashboard.cohere.com/api-keys)\n",
    "\n",
    "For security reasons, We will **NOT include** our secret keys in the notebook.\n",
    "\n",
    "We will store them in a `.env` file and use the [dotenv](https://pypi.org/project/python-dotenv/) library to read them and set them as environment variables."
   ]
  },
  {
   "cell_type": "markdown",
   "id": "b9f3950d-46cd-49f7-9110-0190832e3364",
   "metadata": {},
   "source": [
    "**Please add your API keys to the `keys.env` file before running the next cell.**"
   ]
  },
  {
   "cell_type": "code",
   "execution_count": 3,
   "id": "1f1eb275-e738-42b7-90c2-255b243a2607",
   "metadata": {},
   "outputs": [
    {
     "name": "stdout",
     "output_type": "stream",
     "text": [
      "Please add your API keys to the keys.env file\n"
     ]
    }
   ],
   "source": [
    "from dotenv import load_dotenv, find_dotenv\n",
    "\n",
    "try:\n",
    "    found_dotenv = find_dotenv('keys.env',usecwd=True)\n",
    "    load_dotenv(found_dotenv)\n",
    "    \n",
    "    openai_api_key = os.getenv(\"api_key_openai\")\n",
    "    google_api_key = os.getenv(\"api_key_google\")\n",
    "    cohere_api_key = os.getenv(\"api_key_cohere\")\n",
    "\n",
    "    if (openai_api_key==\"Your_API_key\") or (google_api_key==\"Your_API_key\") or (cohere_api_key==\"Your_API_key\"):\n",
    "        print(\"Please add your API keys to the keys.env file\")\n",
    "    \n",
    "except Exception as e:\n",
    "    print(f\"[ERROR] {e}\")"
   ]
  },
  {
   "cell_type": "markdown",
   "id": "6fd2980f",
   "metadata": {},
   "source": [
    "# <a class=\"anchor\" id=\"retrieval\">Retrieval</a>\n",
    "\n",
    "Before analysing the resume, let's create a Langchain [retrieval](https://python.langchain.com/docs/modules/data_connection/), which includes document loaders to upload the resume, embeddings to create a numerical representation of the text, vector stores to store the embeddings, and retrievers to find the most similar documents to the query."
   ]
  },
  {
   "cell_type": "markdown",
   "id": "153590c3-2302-4ee9-94b3-a3399ccda017",
   "metadata": {},
   "source": [
    "## <a class=\"anchor\" id=\"uploadResume\">Upload resume</a>\n",
    "\n",
    "You can upload a resume in PDF format.\n",
    "\n",
    "We will use [PDFMinerLoader](https://python.langchain.com/docs/modules/data_connection/document_loaders/pdf#using-pdfminer) from Langchain to load and split the resume into an array of documents, where each document contains the page content and the source file as metadata.\n",
    "\n",
    "For demonstration purposes, we will use a simple data scientist resume generated by ChatGPT. Feel free to upload your CV."
   ]
  },
  {
   "cell_type": "code",
   "execution_count": 4,
   "id": "850712d9-1a91-415a-83f2-3e92eb078469",
   "metadata": {},
   "outputs": [],
   "source": [
    "from langchain_community.document_loaders import PDFMinerLoader\n",
    "\n",
    "def langchain_document_loader(file_path):\n",
    "    \"\"\"Load and split a PDF file in Langchain.\n",
    "    Parameters:\n",
    "        - file_path (str): path of the file.\n",
    "    Output:\n",
    "        - documents: list of Langchain Documents.\"\"\"\n",
    "\n",
    "    if file_path.endswith(\".pdf\"):\n",
    "        loader = PDFMinerLoader(file_path=file_path)\n",
    "    else:\n",
    "        print(\"You can only upload .pdf files!\")\n",
    "\n",
    "    # 1. Load and split documents\n",
    "    documents = loader.load_and_split()\n",
    "\n",
    "    # 2. Update the metadata: add document number to metadata\n",
    "    for i in range(len(documents)):\n",
    "        documents[i].metadata = {\n",
    "            \"source\": documents[i].metadata[\"source\"],\n",
    "            \"doc_number\": i,\n",
    "        }\n",
    "\n",
    "    return documents"
   ]
  },
  {
   "cell_type": "markdown",
   "id": "cfbb677a-6ac0-486c-a088-f1a0a402b724",
   "metadata": {},
   "source": [
    "For longer resumes, it is possible to have multiple documents. In such cases, the relevant information can be found in two consecutive documents.\n",
    "\n",
    "To ensure that the subsequent document is added to the most relevant retrieved document, we have included the document number in the metadata."
   ]
  },
  {
   "cell_type": "code",
   "execution_count": 5,
   "id": "1d3ce79f-4364-4e3b-bcf9-9638c46ac1ec",
   "metadata": {},
   "outputs": [
    {
     "name": "stdout",
     "output_type": "stream",
     "text": [
      "number of documents: 1\n"
     ]
    },
    {
     "data": {
      "text/plain": [
       "[Document(page_content='Name Candidate \\nAddress AAA \\ntest@gmail.com \\n123456789 \\n\\nObjective: \\nHighly skilled and experienced data scientist with a track record of success in both Company \\nX and Company Y. Proficient in a range of programming languages and tools, with a strong \\nability to lead teams and adapt to new challenges. Seeking opportunities to leverage \\nexpertise in data science to drive innovation and business growth. \\n\\nExperience: \\nData Scientist - Company Y (2019 - 2024) \\n\\n-  Led a team of data scientists in developing machine learning models for predictive \\n\\nanalytics. \\n\\n-  Utilized TensorFlow and PyTorch for deep learning projects, achieving significant \\n\\n- \\n\\nimprovements in model accuracy. \\nImplemented Spark and Spark MLlib for big data processing, optimizing performance \\nand scalability. \\n\\n-  Conducted data analysis using Tableau and Plotly, generating actionable insights for \\n\\nbusiness stakeholders. \\n\\n-  Collaborated with cross-functional teams to deploy machine learning solutions into \\n\\nproduction environments. \\n\\n-  Mentored junior team members, fostering their professional growth and development. \\n\\nData Scientist - Company X (2014 - 2019) \\n\\n-  Spearheaded data science initiatives, focusing on improving customer engagement \\n\\nand retention. \\n\\n-  Employed Python, Pandas, and Scikit-learn for data preprocessing and predictive \\n\\nmodeling tasks. \\n\\n-  Managed MySQL and Oracle databases, ensuring data integrity and accessibility for \\n\\nanalysis. \\n\\n-  Developed web applications using Flask and HTML to visualize and interact with \\n\\ndata. \\n\\n-  Served as a team leader, coordinating project timelines and priorities to meet \\n\\nbusiness objectives. \\n\\n-  Demonstrated adaptability in rapidly evolving business environments, delivering \\n\\nsolutions on time and within budget. \\n\\nEducation: \\nMaster of Science in Data Science \\nUniversity U1 \\n2014 \\n\\nSkills: \\nProgramming languages: Python, Java \\nData science: TensorFlow, PyTorch, Spark, Spark MLlib, Pandas, Scikit-learn \\nData analysis: Tableau, Plotly \\n\\n \\n \\n \\n \\n \\n\\x0cDatabases: MySQL, Oracle \\nWeb: Flask, HTML \\nSoft skills: Team leadership, Adaptability \\n\\nCertifications: \\nTensorFlow Developer Certificate (2022, Expires: 2025) \\n\\nRecent Projects: \\nChat with Your Data Using Retrieval Augmented Generation \\n\\n- \\n\\nImplemented a conversational AI system using retrieval augmented generation \\ntechniques. \\n\\n-  Leveraged natural language processing models to enable users to interact with data \\n\\nthrough chat interfaces. \\n\\n-  Enhanced user experience and accessibility of data-driven insights. \\n\\nImprove Resume Using the Power of LLM \\n\\n-  Applied large language model (LLM) techniques to optimize and personalize resume \\n\\ncontent. \\n\\n-  Utilized advanced natural language processing algorithms to highlight key skills and \\n\\nachievements effectively. \\n\\n- \\n\\nLanguages: \\nFluent in French, English, and Spanish.', metadata={'source': './data/resume/ChatGPT_dataScientist.pdf', 'doc_number': 0})]"
      ]
     },
     "execution_count": 5,
     "metadata": {},
     "output_type": "execute_result"
    }
   ],
   "source": [
    "documents = langchain_document_loader(\"./data/resume/ChatGPT_dataScientist.pdf\")\n",
    "print(\"number of documents:\",len(documents))\n",
    "documents"
   ]
  },
  {
   "cell_type": "markdown",
   "id": "9d770c76-ab94-4f67-aef2-6c5362c39aed",
   "metadata": {},
   "source": [
    "## <a class=\"anchor\" id=\"tokenCount\">Token Count</a>\n",
    "\n",
    "**Token count is the main constraint for our application.**\n",
    "\n",
    "Although the input token limit is sufficient to process a standard resume (one to two pages) in one call, the output limit is smaller. GPT-3-5 and GPT-4 have an output token limit of 4096 tokens, while Gemini Pro has a limit of only 2048 tokens. For longer resumes, it is not possible to extract all information in one go. We will make multiple calls to LLM and retrieve information section by section (contact information, summary, work experience...).\n",
    "\n",
    "\n",
    "|  Provider   |  Model | maximum token limit | Output token limit | Price\n",
    "| -------- | ------- | ------- | ------- | -------\n",
    "| OpenAI  | [gpt-3.5-turbo-0125](https://platform.openai.com/docs/models/gpt-3-5-turbo)   | 16K | 4096 | Updated pricing can be found on the [OpenAI pricing page](https://openai.com/pricing)\n",
    "| OpenAI  | [gpt-4-turbo-preview](https://platform.openai.com/docs/models/gpt-4-and-gpt-4-turbo)  | 128K | 4096 | Updated pricing can be found on the [OpenAI pricing page](https://openai.com/pricing)\n",
    "| Google  | [gemini-pro](https://ai.google.dev/models/gemini?hl=en)    | 32760  | 2048 | Free access to Gemini pro through Google AI Studio with up to **60** requests per minute."
   ]
  },
  {
   "cell_type": "code",
   "execution_count": 6,
   "id": "db1a4ded-aec0-43b1-90a8-9796f7d32a44",
   "metadata": {},
   "outputs": [
    {
     "name": "stdout",
     "output_type": "stream",
     "text": [
      "Number of tokens per document: [592]\n",
      "Sum of tokens (documents): 592\n"
     ]
    }
   ],
   "source": [
    "# !pip install --upgrade tiktoken\n",
    "\n",
    "import tiktoken\n",
    "def tiktoken_tokens(documents,model=\"gpt-3.5-turbo-0125\"):\n",
    "    \"\"\"Use tiktoken (tokeniser for OpenAI models) to return a list of token length per document.\"\"\"    \n",
    "    \n",
    "    encoding = tiktoken.encoding_for_model(model) # returns the encoding used by the model.    \n",
    "    tokens_length = [len(encoding.encode(doc)) for doc in documents]\n",
    "\n",
    "    return tokens_length\n",
    "\n",
    "\n",
    "# Calculate the number of tokens in each document.\n",
    "documents_length = tiktoken_tokens([doc.page_content for doc in documents],model=\"gpt-3.5-turbo-0125\")\n",
    "\n",
    "print(\"Number of tokens per document:\",documents_length)\n",
    "print(\"Sum of tokens (documents):\",sum(documents_length))"
   ]
  },
  {
   "cell_type": "markdown",
   "id": "2bfe58ef-6d77-4394-a268-22e868cdcdce",
   "metadata": {},
   "source": [
    ">The data scientist resume (generated by Chat GPT) has only 592 tokens. It is possible to extract several sections at once.\n",
    ">\n",
    ">However, our application is designed to analyse any CV, so we will extract information section by section to avoid exceeding the output token limit."
   ]
  },
  {
   "cell_type": "markdown",
   "id": "40921a93-4c0e-4ba9-b863-ed49ba85027a",
   "metadata": {},
   "source": [
    "##### <a class=\"anchor\" id=\"embeddings\">Embeddings</a>\n",
    "\n",
    "Embeddings are numerical representations of text data in a high-dimensional vector space. For instance, the size of the embeddings vector size for OpenAI's text-embedding-ada-002 model is 1536.\n",
    "\n",
    "To identify the most similar documents to a query, we can search for vectors with the highest similarity to the query's embeddings. Cosine similarity is commonly used to measure the similarity between two vectors.s.\n",
    "\n",
    "We will connect to the following API endpoints for embeddings:\n",
    "\n",
    "|  Provider   |  Model | Vector dimension | Price\n",
    "| -------- | ------- | ------- | -------\n",
    "| OpenAI  | [text-embedding-ada-002](https://platform.openai.com/docs/guides/embeddings/embedding-models)    | 1536 | **$0.00010 / 1K tokens.**\n",
    "| Google  | [models/embedding-001](https://ai.google.dev/models/gemini?hl=en)    | 768 | **Rate limit:** 1500 requests per minute. used:"
   ]
  },
  {
   "cell_type": "code",
   "execution_count": 7,
   "id": "1c7d7476-413a-4fa7-bdc3-20b38eecc7e6",
   "metadata": {},
   "outputs": [],
   "source": [
    "def select_embeddings_model(LLM_service=\"OpenAI\"):\n",
    "    \"\"\"Connect to the embeddings API endpoint by specifying the name of the embedding model.\"\"\"\n",
    "    if LLM_service == \"OpenAI\":\n",
    "        embeddings = OpenAIEmbeddings(\n",
    "            model='text-embedding-ada-002',\n",
    "            api_key=openai_api_key)\n",
    "\n",
    "    if LLM_service == \"Google\":\n",
    "        embeddings = GoogleGenerativeAIEmbeddings(\n",
    "            model=\"models/embedding-001\",\n",
    "            google_api_key=google_api_key\n",
    "        )\n",
    "    return embeddings\n",
    "   \n",
    "embeddings_OpenAI = select_embeddings_model(LLM_service=\"OpenAI\")\n",
    "embeddings_google = select_embeddings_model(LLM_service=\"Google\")"
   ]
  },
  {
   "cell_type": "markdown",
   "id": "40c2f1fe-625f-470b-9cd4-d4904100da39",
   "metadata": {},
   "source": [
    "## <a class=\"anchor\" id=\"vectorstores\">Vectorstores</a>\n",
    "\n",
    "\n",
    "A vectorstore is a database used to store embedding vectors. \n",
    "\n",
    "There are several open-source options for vector storage. We will use the [Facebook AI Similarity Search (Faiss)](https://python.langchain.com/docs/integrations/vectorstores/faiss) vector database."
   ]
  },
  {
   "cell_type": "code",
   "execution_count": 8,
   "id": "43a4d0f4-d412-42d7-88ec-4aee35ec5a6b",
   "metadata": {},
   "outputs": [],
   "source": [
    "from langchain_community.vectorstores import FAISS\n",
    "\n",
    "def create_vectorstore(embeddings, documents):\n",
    "    \"\"\"Create a Faiss vector database.\"\"\"\n",
    "    vector_store = FAISS.from_documents(documents=documents, embedding=embeddings)\n",
    "    \n",
    "    return vector_store"
   ]
  },
  {
   "cell_type": "code",
   "execution_count": 9,
   "id": "275b70bf-3d07-4fb7-9e95-3feb804d87c9",
   "metadata": {},
   "outputs": [
    {
     "name": "stdout",
     "output_type": "stream",
     "text": [
      "CPU times: total: 62.5 ms\n",
      "Wall time: 2.25 s\n"
     ]
    }
   ],
   "source": [
    "%%time\n",
    "\n",
    "vector_store_OpenAI = create_vectorstore(embeddings=embeddings_OpenAI,documents=documents)\n",
    "vector_store_google = create_vectorstore(embeddings=embeddings_google,documents=documents)"
   ]
  },
  {
   "cell_type": "markdown",
   "id": "34a172fd-9742-425e-a257-d29033abb28b",
   "metadata": {},
   "source": [
    "## <a class=\"anchor\" id=\"retriever\">Vectorstore-backed retriever</a>\n",
    "\n",
    "\n",
    "A [retriever](https://python.langchain.com/docs/modules/data_connection/retrievers/) is responsible for returning relevant documents to a query. \n",
    "\n",
    "**Vectorstore-backed retriever** is a simple retriever. It uses semantic search to retrieve documents from a Vectorstore."
   ]
  },
  {
   "cell_type": "code",
   "execution_count": 10,
   "id": "4d61befc-c00c-4643-a958-c0c967f6190d",
   "metadata": {},
   "outputs": [],
   "source": [
    "def Vectorstore_backed_retriever(vectorstore,search_type=\"similarity\",k=4,score_threshold=None):\n",
    "    \"\"\"create a vectorsore-backed retriever\n",
    "    Parameters: \n",
    "        search_type: Defines the type of search that the Retriever should perform.\n",
    "            Can be \"similarity\" (default), \"mmr\", or \"similarity_score_threshold\"\n",
    "        k: number of documents to return (Default: 4) \n",
    "        score_threshold: Minimum relevance threshold for similarity_score_threshold (default=None)\n",
    "    \"\"\"\n",
    "    search_kwargs={}\n",
    "    if k is not None:\n",
    "        search_kwargs['k'] = k\n",
    "    if score_threshold is not None:\n",
    "        search_kwargs['score_threshold'] = score_threshold\n",
    "\n",
    "    retriever = vectorstore.as_retriever(\n",
    "        search_type=search_type,\n",
    "        search_kwargs=search_kwargs\n",
    "    )\n",
    "    return retriever\n",
    "\n",
    "\n",
    "base_retriever_OpenAI = Vectorstore_backed_retriever(vector_store_OpenAI,\"similarity\",k=min(4,len(documents))) \n",
    "base_retriever_google = Vectorstore_backed_retriever(vector_store_google,\"similarity\",k=min(4,len(documents)))"
   ]
  },
  {
   "cell_type": "markdown",
   "id": "7a479af9-3f3d-4421-989b-89883dd40fda",
   "metadata": {},
   "source": [
    "The most similar documents are not necessarily the most relevant.\n",
    "\n",
    "In the next section, we will create a CohereRerank retriever which will return the most relevant documents."
   ]
  },
  {
   "cell_type": "markdown",
   "id": "1b065429-36fe-4702-a836-7219c179d5bf",
   "metadata": {},
   "source": [
    "## <a class=\"anchor\" id=\"cohere\">Cohere reranker</a>\n",
    "\n",
    "We will wrap our base retriever with a [ContextualCompressionRetriever](https://python.langchain.com/docs/integrations/retrievers/cohere-reranker) and use the [Cohere rerank endpoint](https://docs.cohere.com/docs/reranking) to reorder the results based on semantically **relevance** to the query."
   ]
  },
  {
   "cell_type": "code",
   "execution_count": 11,
   "id": "f773aaa8-7851-4e6e-bb8d-e2fe136dbe11",
   "metadata": {},
   "outputs": [],
   "source": [
    "from langchain.retrievers import ContextualCompressionRetriever\n",
    "from langchain.retrievers.document_compressors import CohereRerank\n",
    "from langchain_community.llms import Cohere\n",
    "\n",
    "def CohereRerank_retriever(\n",
    "    base_retriever, \n",
    "    cohere_api_key,cohere_model=\"rerank-multilingual-v2.0\", top_n=2\n",
    "):\n",
    "    \"\"\"Build a ContextualCompressionRetriever using Cohere Rerank endpoint to reorder the results based on relevance.\n",
    "    Parameters:\n",
    "       base_retriever: a Vectorstore-backed retriever\n",
    "       cohere_api_key: the Cohere API key\n",
    "       cohere_model: The Cohere model can be either 'rerank-english-v2.0' or 'rerank-multilingual-v2.0', with the latter being the default.\n",
    "       top_n: top n results returned by Cohere rerank, default = 2.\n",
    "    \"\"\"\n",
    "    \n",
    "    compressor = CohereRerank(\n",
    "        cohere_api_key=cohere_api_key, \n",
    "        model=cohere_model, \n",
    "        top_n=top_n\n",
    "    )\n",
    "\n",
    "    retriever_Cohere = ContextualCompressionRetriever(\n",
    "        base_compressor=compressor,\n",
    "        base_retriever=base_retriever\n",
    "    )\n",
    "    \n",
    "    return retriever_Cohere"
   ]
  },
  {
   "cell_type": "code",
   "execution_count": 12,
   "id": "e5c4eebd-8e6b-41a1-bfb0-83466898372a",
   "metadata": {},
   "outputs": [],
   "source": [
    "retriever_Cohere_google = CohereRerank_retriever(\n",
    "    base_retriever=base_retriever_google, \n",
    "    cohere_api_key=cohere_api_key,\n",
    "    cohere_model=\"rerank-multilingual-v2.0\",  \n",
    "    top_n=2\n",
    ")\n",
    "\n",
    "retriever_Cohere_openAI = CohereRerank_retriever(\n",
    "    base_retriever=base_retriever_OpenAI, \n",
    "    cohere_api_key=cohere_api_key,\n",
    "    cohere_model=\"rerank-multilingual-v2.0\",  \n",
    "    top_n=2\n",
    ")"
   ]
  },
  {
   "cell_type": "code",
   "execution_count": 13,
   "id": "80054b03-9d0a-42c6-9207-f6e2efd95486",
   "metadata": {},
   "outputs": [
    {
     "name": "stdout",
     "output_type": "stream",
     "text": [
      "Most similar doc id : 0 \n"
     ]
    }
   ],
   "source": [
    "query = \"Extract the job title and company name of the first work experience.\"\n",
    "\n",
    "most_relevant_docs = retriever_Cohere_google.get_relevant_documents(query)\n",
    "\n",
    "for i in range(len(most_relevant_docs)):\n",
    "    print(f\"\"\"Most similar doc id : {most_relevant_docs[i].metadata['doc_number']} \"\"\")\n"
   ]
  },
  {
   "cell_type": "markdown",
   "id": "b1319d81-c0ec-4ba1-a110-35d11a0669d5",
   "metadata": {},
   "source": [
    "# <a class=\"anchor\" id=\"llm\">Instantiate LLMs</a>\n",
    "\n",
    "Our appliaction will interact with LLMs, such as GPT3.5-turbo and Google gemini-pro.\n",
    "\n",
    "We will use the OpenAI and Google APIs, and leverage the `ChatOpenAI` and `ChatGoogleGenerativeAI` Langchain classes to instantiate the following instruction-tuned models:\n",
    "- **OpenAI API**: [gpt-3.5-turbo-0125](https://platform.openai.com/docs/models/gpt-3-5-turbo) and [gpt-4-turbo-preview](https://platform.openai.com/docs/models/gpt-4-and-gpt-4-turbo). \\\n",
    "These models are paid and prices are per 1,000 tokens (~750 words). Updated pricing can be found on the [OpenAI pricing page](https://openai.com/pricing).\n",
    "- **Google Gemini API**: [gemini-pro](https://ai.google.dev/models/gemini?hl=en). \\\n",
    "Free access to Gemini pro through Google AI Studio with up to 60 requests per minute.\n",
    "\n",
    "\n",
    "|  Provider   |  Model | maximum token limit | Output token limit | Price\n",
    "| -------- | ------- | ------- | ------- | -------\n",
    "| OpenAI  | [gpt-3.5-turbo-0125](https://platform.openai.com/docs/models/gpt-3-5-turbo)   | 16K | 4096 | Updated pricing can be found on the [OpenAI pricing page](https://openai.com/pricing)\n",
    "| OpenAI  | [gpt-4-turbo-preview](https://platform.openai.com/docs/models/gpt-4-and-gpt-4-turbo)  | 128K | 4096 | Updated pricing can be found on the [OpenAI pricing page](https://openai.com/pricing)\n",
    "| Google  | [gemini-pro](https://ai.google.dev/models/gemini?hl=en)    | 32760  | 2048 | Free access to Gemini pro through Google AI Studio with up to **60** requests per minute.\n",
    "\n",
    "The main parameters for all of these LLMs are:\n",
    "- **temperature:** controls the degree of randomness in token selection. Higher values increase diversity, and hence, creativity.\n",
    "- **top_k:** Selects the next token from the most probable **k** tokens by using temperature. Lower k focuses on more probable tokens. \n",
    "- **top_p:** The cumulative probability cutoff for token selection. Higher values increase diversity.\n",
    "\n",
    "Let's create a function to instantiate a chat model."
   ]
  },
  {
   "cell_type": "code",
   "execution_count": 14,
   "id": "9b8aef78-02f2-4af2-bf31-a7d5dadf020c",
   "metadata": {},
   "outputs": [],
   "source": [
    "def instantiate_LLM(LLM_provider,api_key,temperature=0.5,top_p=0.95,model_name=None):\n",
    "    \"\"\"Instantiate LLM in Langchain.\n",
    "    Parameters:\n",
    "        LLM_provider (str): the LLM provider; in [\"OpenAI\",\"Google\",\"HuggingFace\"]\n",
    "        model_name (str): in [\"gpt-3.5-turbo\", \"gpt-3.5-turbo-0125\", \"gpt-4-turbo-preview\", \n",
    "            \"gemini-pro\", \"mistralai/Mistral-7B-Instruct-v0.2\"].            \n",
    "        api_key (str): google_api_key or openai_api_key or huggingfacehub_api_token \n",
    "        temperature (float): Range: 0.0 - 1.0; default = 0.5\n",
    "        top_p (float): : Range: 0.0 - 1.0; default = 1.\n",
    "    \"\"\"\n",
    "    if LLM_provider == \"OpenAI\":\n",
    "        llm = ChatOpenAI(\n",
    "            api_key=api_key,\n",
    "            model=model_name,\n",
    "            temperature=temperature,\n",
    "            model_kwargs={\n",
    "                \"top_p\": top_p\n",
    "            }\n",
    "        )\n",
    "    if LLM_provider == \"Google\":\n",
    "        llm = ChatGoogleGenerativeAI(\n",
    "            google_api_key=api_key,\n",
    "            # model=\"gemini-pro\",\n",
    "            model=model_name,\n",
    "            temperature=temperature,\n",
    "            top_p=top_p,\n",
    "            convert_system_message_to_human=True\n",
    "        )\n",
    "    return llm\n"
   ]
  },
  {
   "cell_type": "code",
   "execution_count": 15,
   "id": "7c69ee7f",
   "metadata": {},
   "outputs": [],
   "source": [
    "def set_LLM_and_retriever(provider=\"OpenAI\",model_name=\"gpt-3.5-turbo-0125\",temperature=0.0,top_p=0.95):\n",
    "    if provider==\"OpenAI\":\n",
    "        llm = instantiate_LLM(\n",
    "            \"OpenAI\",\n",
    "            api_key=openai_api_key,\n",
    "            temperature=temperature,\n",
    "            top_p=top_p,\n",
    "            model_name=model_name\n",
    "        )\n",
    "        retriever = retriever_Cohere_openAI\n",
    "    else: # \"Google\"\n",
    "        llm = instantiate_LLM(\n",
    "            LLM_provider=\"Google\",\n",
    "            api_key=google_api_key,\n",
    "            temperature=temperature,\n",
    "            top_p=top_p, \n",
    "            model_name=\"gemini-pro\"\n",
    "        )\n",
    "        retriever = retriever_Cohere_google\n",
    "        \n",
    "    return llm,retriever "
   ]
  },
  {
   "cell_type": "code",
   "execution_count": 16,
   "id": "89db1613",
   "metadata": {},
   "outputs": [],
   "source": [
    "llm,retriever = set_LLM_and_retriever(provider=\"Google\",temperature=0.0)"
   ]
  },
  {
   "cell_type": "markdown",
   "id": "9c1c1446-4e6d-4149-a0c2-e93861c80a04",
   "metadata": {},
   "source": [
    "# <a class=\"anchor\" id=\"scanner\">Resume Scanner</a>\n",
    "\n",
    "In the following sections, we will call the LLM to:\n",
    "- Extract information from the resume (such as contact information, skills, work experience...). \n",
    "- Evaluate the quality of each section and bullet point and return a score on a scale from 0 to 100. \n",
    "- Improve the text and make it more appealing to recruiters. "
   ]
  },
  {
   "cell_type": "markdown",
   "id": "5300ff97",
   "metadata": {},
   "source": [
    "## <a class=\"anchor\" id=\"prompt_templates\">Prompt Templates</a>\n",
    "\n",
    "We will use the `PromptTemplate` class from Langchain to generate prompts for the LLM.\n",
    "\n",
    "The PromptTemplate will be generated using the following `templates`."
   ]
  },
  {
   "cell_type": "code",
   "execution_count": 17,
   "id": "2c87611b-d2bf-4765-af2d-1466584ef59a",
   "metadata": {},
   "outputs": [],
   "source": [
    "#####################################################\n",
    "#                 Prompt Templates\n",
    "#####################################################\n",
    "\n",
    "templates = {}\n",
    "\n",
    "# 2.1 Contact information Section\n",
    "templates[\n",
    "    \"Contact__information\"\n",
    "] = \"\"\"Extract and evaluate the contact information. \\\n",
    "Output a dictionary with the following keys:\n",
    "- candidate__name \n",
    "- candidate__title\n",
    "- candidate__location\n",
    "- candidate__email\n",
    "- candidate__phone\n",
    "- candidate__social_media: Extract a list of all social media profiles, blogs or websites.\n",
    "- evaluation__ContactInfo: Evaluate in {language} the contact information.\n",
    "- score__ContactInfo: Rate the contact information by giving a score (integer) from 0 to 100.\n",
    "\"\"\"\n",
    "\n",
    "# 2.2. Summary Section\n",
    "templates[\n",
    "    \"CV__summary\"\n",
    "] = \"\"\"Extract the summary and/or objective section. This is a separate section of the resume. \\\n",
    "If the resume doed not contain a summary and/or objective section, then simply write \"unknown\".\"\"\"\n",
    "\n",
    "# 2.3. WORK Experience Section\n",
    "\n",
    "templates[\n",
    "    \"Work__experience\"\n",
    "] = \"\"\"Extract all work experiences. For each work experience: \n",
    "1. Extract the job title.\n",
    "2. Extract the company.  \n",
    "3. Extract the start date and output it in the following format: \\\n",
    "YYYY/MM/DD or YYYY/MM or YYYY (depending on the availability of the day and month).\n",
    "4. Extract the end date and output it in the following format: \\\n",
    "YYYY/MM/DD or YYYY/MM or YYYY (depending on the availability of the day and month).\n",
    "5. Output a dictionary with the following keys: job__title, job__company, job__start_date, job__end_date.\n",
    "\n",
    "Format your response as a list of dictionaries.\n",
    "\"\"\"\n",
    "\n",
    "# 2.4. Projects Section\n",
    "templates[\n",
    "    \"CV__Projects\"\n",
    "] = \"\"\"Include any side projects outside the work experience. \n",
    "For each project:\n",
    "1. Extract the title of the project. \n",
    "2. Extract the start date and output it in the following format: \\\n",
    "YYYY/MM/DD or YYYY/MM or YYYY (depending on the availability of the day and month).\n",
    "3. Extract the end date and output it in the following format: \\\n",
    "YYYY/MM/DD or YYYY/MM or YYYY (depending on the availability of the day and month).\n",
    "4. Output a dictionary with the following keys: project__title, project__start_date, project__end_date.\n",
    "\n",
    "Format your response as a list of dictionaries.\n",
    "\"\"\"\n",
    "\n",
    "# 2.5. Education Section\n",
    "templates[\n",
    "    \"CV__Education\"\n",
    "] = \"\"\"Extract all educational background and academic achievements.\n",
    "For each education achievement:\n",
    "1. Extract the name of the college or the high school. \n",
    "2. Extract the earned degree. Honors and achievements are included.\n",
    "3. Extract the start date and output it in the following format: \\\n",
    "YYYY/MM/DD or YYYY/MM or YYYY (depending on the availability of the day and month).\n",
    "4. Extract the end date and output it in the following format: \\\n",
    "YYYY/MM/DD or YYYY/MM or YYYY (depending on the availability of the day and month).\n",
    "5. Output a dictionary with the following keys: edu__college, edu__degree, edu__start_date, edu__end_date.\n",
    "\n",
    "Format your response as a list of dictionaries.\n",
    "\"\"\"\n",
    "\n",
    "templates[\n",
    "    \"Education__evaluation\"\n",
    "] = \"\"\"Your task is to perform the following actions:  \n",
    "1. Rate the quality of the Education section by giving an integer score from 0 to 100. \n",
    "2. Evaluate (in three sentences and in {language}) the quality of the Education section.\n",
    "3. Output a dictionary with the following keys: score__edu, evaluation__edu.\n",
    "\"\"\"\n",
    "\n",
    "# 2.6. Skills\n",
    "templates[\n",
    "    \"candidate__skills\"\n",
    "] = \"\"\"Extract the list of soft and hard skills from the skill section. Output a list.\n",
    "The skill section is a separate section.\n",
    "\"\"\"\n",
    "\n",
    "templates[\n",
    "    \"Skills__evaluation\"\n",
    "] = \"\"\"Your task is to perform the following actions: \n",
    "1. Rate the quality of the Skills section by giving an integer score from 0 to 100.\n",
    "2. Evaluate (in three sentences and in {language}) the quality of the Skills section.\n",
    "3. Output a dictionary with the following keys: score__skills, evaluation__skills.\n",
    "\"\"\"\n",
    "\n",
    "# 2.7. Languages\n",
    "templates[\n",
    "    \"CV__Languages\"\n",
    "] = \"\"\"Extract all the languages that the candidate can speak. For each language:\n",
    "1. Extract the language.\n",
    "2. Extract the fluency. If the fluency is not available, then simply write \"unknown\".\n",
    "3. Output a dictionary with the following keys: spoken__language, language__fluency.\n",
    "\n",
    "Format your response as a list of dictionaries.\n",
    "\"\"\"\n",
    "\n",
    "templates[\n",
    "    \"Languages__evaluation\"\n",
    "] = \"\"\" Your task is to perform the following actions: \n",
    "1. Rate the quality of the language section by giving an integer score from 0 to 100.\n",
    "2. Evaluate (in three sentences and in {language}) the quality of the language section.\n",
    "3. Output a dictionary with the following keys: score__language,evaluation__language.\n",
    "\"\"\"\n",
    "\n",
    "# 2.8. Certifications\n",
    "templates[\n",
    "    \"CV__Certifications\"\n",
    "] = \"\"\"Extraction of all certificates other than education background and academic achievements. \\\n",
    "For each certificate: \n",
    "1. Extract the title of the certification. \n",
    "2. Extract the name of the organization or institution that issues the certification.\n",
    "3. Extract the date of certification and output it in the following format: \\\n",
    "YYYY/MM/DD or YYYY/MM or YYYY (depending on the availability of the day and month).\n",
    "4. Extract the certification expiry date and output it in the following format: \\\n",
    "YYYY/MM/DD or YYYY/MM or YYYY (depending on the availability of the day and month).\n",
    "5. Extract any other information listed about the certification. if not found, then simply write \"unknown\".\n",
    "6. Output a dictionary with the following keys: certif__title, certif__organization, certif__date, certif__expiry_date, certif__details.\n",
    "\n",
    "Format your response as a list of dictionaries.\n",
    "\"\"\"\n",
    "\n",
    "templates[\n",
    "    \"Certif__evaluation\"\n",
    "] = \"\"\"Your task is to perform the following actions: \n",
    "1. Rate the certifications by giving an integer score from 0 to 100.\n",
    "2. Evaluate (in three sentences and in {language}) the certifications and the quality of the text.\n",
    "3. Format your response as a dictionary with the following keys: score__certif,evaluation__certif.\n",
    "\"\"\"\n",
    "\n",
    "\n",
    "# 3. PROMPTS\n",
    "\n",
    "PROMPT_IMPROVE_SUMMARY = \"\"\"Your are given a resume (delimited by <resume></resume>) \\\n",
    "and a summary (delimited by <summary></summary>).\n",
    "1. In {language}, evaluate the summary (format and content) .\n",
    "2. Rate the summary by giving an integer score from 0 to 100. \\\n",
    "If the summary is \"unknown\", the score is 0.\n",
    "3. In {language}, strengthen the summary. The summary should not exceed 5 sentences. \\\n",
    "If the summary is \"unknown\", generate a strong summary in {language} with no more than 5 sentences. \\\n",
    "Please include: years of experience, top skills and experiences, some of the biggest achievements, and finally an attractive objective.\n",
    "4. Format your response as a dictionary with the following keys: evaluation__summary, score__summary, CV__summary_enhanced.\n",
    "\n",
    "<summary>\n",
    "{summary}\n",
    "</summary>\n",
    "------\n",
    "<resume>\n",
    "{resume}\n",
    "</resume>\n",
    "\"\"\"\n",
    "\n",
    "PROMPT_IMPROVE_WORK_EXPERIENCE = \"\"\"you are given a work experience text delimited by triple backticks.\n",
    "1. Rate the quality of the work experience text by giving an integer score from 0 to 100. \n",
    "2. Suggest in {language} how to make the work experience text better and stronger.\n",
    "3. Strengthen the work experience text to make it more appealing to a recruiter in {language}. \\\n",
    "Provide additional details on responsibilities and quantify results for each bullet point. \\\n",
    "Format your text as a string in {language}.\n",
    "4. Format your response as a dictionary with the following keys: \"Score__WorkExperience\", \"Comments__WorkExperience\" and \"Improvement__WorkExperience\".\n",
    "\n",
    "Work experience text: ```{text}```\n",
    "\"\"\"\n",
    "\n",
    "PROMPT_IMPROVE_PROJECT = \"\"\"you are given a project text delimited by triple backticks.\n",
    "1. Rate the quality of the project text by giving an integer score from 0 to 100. \n",
    "2. Suggest in {language} how to make the project text better and stronger.\n",
    "3. Strengthen the project text to make it more appealing to a recruiter in {language}, \\\n",
    "including the problem, the approach taken, the tools used and quantifiable results. \\\n",
    "Format your text as a string in {language}.\n",
    "4. Format your response as a dictionary with the following keys: Score__project, Comments__project, Improvement__project.\n",
    "\n",
    "project text: ```{text}```\n",
    "\"\"\"\n",
    "\n",
    "PROMPT_EVALUATE_RESUME = \"\"\"You are given a resume delimited by triple backticks. \n",
    "1. Provide an overview of the resume in {language}.\n",
    "2. Provide a comprehensive analysis of the three main strengths of the resume in {language}. \\\n",
    "Format the top 3 strengths as string containg three bullet points.\n",
    "3. Provide a comprehensive analysis of the three main weaknesses of the resume in {language}. \\\n",
    "Format the top 3 weaknesses as string containg three bullet points.\n",
    "4. Format your response as a dictionary with the following keys: resume_cv_overview, top_3_strengths, top_3_weaknesses.\n",
    "\n",
    "The strengths and weaknesses lie in the format, style and content of the resume.\n",
    "\n",
    "Resume: ```{text}```\n",
    "\"\"\""
   ]
  },
  {
   "cell_type": "markdown",
   "id": "9e659f4b-edca-45c3-9ef2-ee7ce15c1da9",
   "metadata": {},
   "source": [
    ">As you can see, we have provided **clear and specific instructions** to guide the model towards the desired output. To obtain relevant results, we have also:\n",
    ">- **Used delimiters** (such as triple backticks) for clear indication of context.\n",
    ">- **Formatted the output** as a JSON structured object. We will use the `json.loads` command. If it fails, parsing the formatted output will be straightforward.\n",
    ">- **Specified the steps** for completing a task. For example, to evaluate the skills section, we asked the model to first evaluate this section in three sentences, then rate its quality by giving an integer score from 0 to 100, and finally output a Json dictionary.\n",
    ">\n",
    ">**It is evident that LLM can perform various tasks in a single call. For instance, our inference tasks involve extracting information such as skills and academic achievements, evaluating the text's quality, and rating it on a scale of 0 to 100. LLMs are powerful as they can provide relevant answers for multiple tasks with just one direct prompt, without any examples (i.e. zero-shot), unlike traditional machine learning workflows that require a separate model for each task.**"
   ]
  },
  {
   "cell_type": "markdown",
   "id": "ee5f3d84-8a53-4c8c-b4e4-aecae5eac02b",
   "metadata": {},
   "source": [
    "Now, let's create a function to create the PromptTemplate from the templates."
   ]
  },
  {
   "cell_type": "code",
   "execution_count": 18,
   "id": "8528ebaa-452c-486b-88ef-f23d7b147e5d",
   "metadata": {},
   "outputs": [],
   "source": [
    "def create_prompt_template(resume_sections, language=ASSISTAN_LANGUAGE):\n",
    "    \"\"\"Create the promptTemplate for selected resume sections.\n",
    "    Parameters:\n",
    "       resume_sections (list): List of resume sections from which information will be extracted.\n",
    "       language (str): the language of the AI assistant.\n",
    "    \"\"\"\n",
    "\n",
    "    # Create the final template: Add the templates from the 'templates' dictionary where keys = resume_sections\n",
    "    template = f\"\"\"For the following resume delimited by triple backticks, output in {language} the following information:\\n\\n\"\"\"\n",
    "\n",
    "    for key in resume_sections:\n",
    "        template += key + \": \" + templates[key] + \"\\n---------\\n\\n\"\n",
    "\n",
    "    template += \"For any requested information, if it is not found, output 'unknown'.\\n\\n\"\n",
    "    template += (\n",
    "        \"\"\"Format the final output as a json dictionary with the following keys: (\"\"\"\n",
    "    )\n",
    "\n",
    "    for key in resume_sections:\n",
    "        template += \"\" + key + \", \"\n",
    "    template = template[:-2] + \")\"  # remove the last \", \"\n",
    "\n",
    "    template += \"\"\"\\n\\nResume: ```{text}```\"\"\"\n",
    "\n",
    "    # Create the PromptTemplate\n",
    "    prompt_template = PromptTemplate.from_template(template)\n",
    "\n",
    "    return prompt_template"
   ]
  },
  {
   "cell_type": "markdown",
   "id": "8822c8ee",
   "metadata": {},
   "source": [
    "The final template includes a placeholder for the context (i.e. retrieved documents) and the assistant language. It instructs the LLM to answer the question based solely on the provided context. The `PromptTemplate` uses this template to return a LLM prompt."
   ]
  },
  {
   "cell_type": "code",
   "execution_count": 19,
   "id": "94d87b4e-06c1-4689-a9d3-36f27ad708fa",
   "metadata": {},
   "outputs": [
    {
     "name": "stdout",
     "output_type": "stream",
     "text": [
      "**Number of tokens** in the prompt_template (instructions with no context): 343 tokens.\n",
      "\n",
      "**LLM prompt example:**\n",
      "\n",
      "For the following resume delimited by triple backticks, output in english the following information:\n",
      "\n",
      "Contact__information: Extract and evaluate the contact information. Output a dictionary with the following keys:\n",
      "- candidate__name \n",
      "- candidate__title\n",
      "- candidate__location\n",
      "- candidate__email\n",
      "- candidate__phone\n",
      "- candidate__social_media: Extract a list of all social media profiles, blogs or websites.\n",
      "- evaluation__ContactInfo: Evaluate in english the contact information.\n",
      "- score__ContactInfo: Rate the contact information by giving a score (integer) from 0 to 100.\n",
      "\n",
      "---------\n",
      "\n",
      "CV__summary: Extract the summary and/or objective section. This is a separate section of the resume. If the resume doed not contain a summary and/or objective section, then simply write \"unknown\".\n",
      "---------\n",
      "\n",
      "Work__experience: Extract all work experiences. For each work experience: \n",
      "1. Extract the job title.\n",
      "2. Extract the company.  \n",
      "3. Extract the start date and output it in the following format: YYYY/MM/DD or YYYY/MM or YYYY (depending on the availability of the day and month).\n",
      "4. Extract the end date and output it in the following format: YYYY/MM/DD or YYYY/MM or YYYY (depending on the availability of the day and month).\n",
      "5. Output a dictionary with the following keys: job__title, job__company, job__start_date, job__end_date.\n",
      "\n",
      "Format the output as a list of dictionaries.\n",
      "\n",
      "---------\n",
      "\n",
      "For any requested information, if it is not found, output 'unknown'.\n",
      "\n",
      "Format the final output as a json dictionary with the following keys: (Contact__information, CV__summary, Work__experience)\n",
      "\n",
      "Resume: ```...```\n"
     ]
    }
   ],
   "source": [
    "# Here is a example:\n",
    "\n",
    "prompt_template = create_prompt_template(\n",
    "    ['Contact__information','CV__summary','Work__experience'],\n",
    "    language=ASSISTAN_LANGUAGE\n",
    ")\n",
    "\n",
    "print(\"**Number of tokens** in the prompt_template (instructions with no context):\",sum(tiktoken_tokens([prompt_template.template])),\"tokens.\")\n",
    "\n",
    "print(\"\\n**LLM prompt example:**\\n\")\n",
    "# Format the PromptTemplate\n",
    "prompt = prompt_template.format_prompt(text=\"...\",language=ASSISTAN_LANGUAGE).text\n",
    "\n",
    "print(prompt)"
   ]
  },
  {
   "cell_type": "markdown",
   "id": "ecadcfe9-6d3e-4325-8faf-77c0f99b2043",
   "metadata": {},
   "source": [
    "## <a class=\"anchor\" id=\"invoke_llms\">Invoke LLMs</a>\n",
    "\n",
    "Here, we create a function to invoke the LLM and get the content of its response."
   ]
  },
  {
   "cell_type": "code",
   "execution_count": 20,
   "id": "cfd5db49-0b40-407b-93ca-ed4edd5ab0d5",
   "metadata": {},
   "outputs": [],
   "source": [
    "def invoke_LLM(\n",
    "    llm,\n",
    "    documents,\n",
    "    resume_sections: list,\n",
    "    info_message=\"\",\n",
    "    language=ASSISTAN_LANGUAGE,\n",
    "):\n",
    "    \"\"\"Invoke LLM and get a response.\n",
    "    Parameters:\n",
    "     - llm: the LLM to call\n",
    "     - documents: the Langchain Documents. \n",
    "     - resume_sections (list): List of resume sections to be parsed.\n",
    "     - info_message (str): display an informational message.\n",
    "     - language (str): the assistant language. \n",
    "\n",
    "     Output:\n",
    "     - response_content (str): the content of the LLM response.\n",
    "     - response_tokens_count (int): count of response tokens.\n",
    "    \"\"\"\n",
    "\n",
    "    now = (datetime.datetime.now()).strftime(\"%H:%M:%S\")\n",
    "    print(f\"**{now}** \\t{info_message}\")  \n",
    "\n",
    "    # 1. Create the promptTemplate.\n",
    "    prompt_template = create_prompt_template(\n",
    "        resume_sections,\n",
    "        language=language,\n",
    "    )\n",
    "\n",
    "    # 2. Format the PromptTemplate \n",
    "    if language is not None:\n",
    "        prompt = prompt_template.format_prompt(text=documents, language=language).text\n",
    "    else:\n",
    "        prompt = prompt_template.format_prompt(text=documents).text\n",
    "\n",
    "    # 3. Invoke the LLM\n",
    "    response = llm.invoke(prompt)\n",
    "    \n",
    "    response_content = response.content[\n",
    "        response.content.find(\"{\") : response.content.rfind(\"}\") + 1\n",
    "    ]\n",
    "    response_tokens_count = sum(tiktoken_tokens([response_content]))\n",
    "    print(f\"\"\"response tokens: {response_tokens_count}\"\"\")\n",
    "\n",
    "    return response_content, response_tokens_count"
   ]
  },
  {
   "cell_type": "markdown",
   "id": "6568d60d-dec2-41de-a332-04d1fba40293",
   "metadata": {},
   "source": [
    "## <a class=\"anchor\" id=\"contact_info\">Contact Information</a>\n",
    "\n",
    "Name, Title, Location, Email, Phone number and Social media profiles will be extracted."
   ]
  },
  {
   "cell_type": "code",
   "execution_count": 21,
   "id": "93aac393-3cb6-4bf0-98d5-fb8a9052e4b6",
   "metadata": {},
   "outputs": [
    {
     "name": "stdout",
     "output_type": "stream",
     "text": [
      "**17:24:15** \tExtract and evaluate contact information...\n",
      "response tokens: 127\n",
      "CPU times: total: 0 ns\n",
      "Wall time: 4.95 s\n"
     ]
    },
    {
     "data": {
      "text/plain": [
       "{'Contact__information': {'candidate__name': 'Name Candidate',\n",
       "  'candidate__title': 'Data Scientist',\n",
       "  'candidate__location': 'unknown',\n",
       "  'candidate__email': 'test@gmail.com',\n",
       "  'candidate__phone': '123456789',\n",
       "  'candidate__social_media': [],\n",
       "  'evaluation__ContactInfo': \"The contact information provided is complete and easy to find. It includes the candidate's name, title, email, and phone number. However, it does not include any social media profiles or website.\",\n",
       "  'score__ContactInfo': 80}}"
      ]
     },
     "execution_count": 21,
     "metadata": {},
     "output_type": "execute_result"
    }
   ],
   "source": [
    "%%time\n",
    "\n",
    "##########################################################################################################\n",
    "#     CONTACT_INFORMATION: Name, Title, Location, Email, Phone number and Social media profiles.\n",
    "##########################################################################################################\n",
    "\n",
    "try:\n",
    "    response_content, response_tokens_count = invoke_LLM(\n",
    "        llm,\n",
    "        documents,\n",
    "        resume_sections=[\"Contact__information\"],\n",
    "        info_message=\"Extract and evaluate contact information...\",\n",
    "        language=ASSISTAN_LANGUAGE,\n",
    "    )\n",
    "    \n",
    "    try:\n",
    "        # Load response_content into json dictionary\n",
    "        CONTACT_INFORMATION = json.loads(response_content, strict=False)\n",
    "    except Exception as e:\n",
    "        print(\"[ERROR] json.loads returns error:\", e)\n",
    "        CONTACT_INFORMATION = {}\n",
    "        \n",
    "except Exception as error:\n",
    "    print(\"[ERROR]:\", error)\n",
    "    CONTACT_INFORMATION = {}\n",
    "    \n",
    "CONTACT_INFORMATION "
   ]
  },
  {
   "cell_type": "markdown",
   "id": "7d1b6414-3dc1-4216-8d0b-924cfb2992d1",
   "metadata": {},
   "source": [
    "**We will create a function to parse the response if json.loads fails.**"
   ]
  },
  {
   "cell_type": "code",
   "execution_count": 22,
   "id": "3413907c",
   "metadata": {},
   "outputs": [],
   "source": [
    "def extract_from_text(text,start_tag,end_tag=None):\n",
    "    \"\"\"Use start and end tags to extract a substring from text.\"\"\"\n",
    "    start_index = text.find(start_tag)\n",
    "    if end_tag is None:\n",
    "        extacted_txt = text[start_index+len(start_tag):]\n",
    "    else:\n",
    "        end_index = text.find(end_tag) \n",
    "        extacted_txt = text[start_index+len(start_tag):end_index]\n",
    "    \n",
    "    return extacted_txt"
   ]
  },
  {
   "cell_type": "code",
   "execution_count": 23,
   "id": "67a87e1e",
   "metadata": {},
   "outputs": [
    {
     "name": "stdout",
     "output_type": "stream",
     "text": [
      "[ERROR] json.loads returns error: Extra data: line 12 column 2 (char 529)\n",
      "\n",
      "['INFO'] Parse response content...\n",
      "\n"
     ]
    },
    {
     "data": {
      "text/plain": [
       "{'Contact__information': {'candidate__name': 'Name Candidate',\n",
       "  'candidate__title': 'Data Scientist',\n",
       "  'candidate__location': 'unknown',\n",
       "  'candidate__email': 'test@gmail.com',\n",
       "  'candidate__phone': '123456789',\n",
       "  'candidate__social_media': '],',\n",
       "  'evaluation__ContactInfo': 'The contact information provided is complete and easy to find. It includes the candidate\\'s name, title, email, and phone number. However, it does not include any social media profiles or website.\",',\n",
       "  'score__ContactInfo': 80}}"
      ]
     },
     "execution_count": 23,
     "metadata": {},
     "output_type": "execute_result"
    }
   ],
   "source": [
    "try:\n",
    "    CONTACT_INFORMATION = json.loads(response_content+\"}\", strict=False) # Add \"}\" for error simulation\n",
    "except Exception as e:\n",
    "    print(\"[ERROR] json.loads returns error:\",e)\n",
    "\n",
    "    # Parse the response_content\n",
    "    print(\"\\n['INFO'] Parse response content...\\n\")\n",
    "    name = extract_from_text(response_content,\"\\\"candidate__name\\\": \",\"\\\"candidate__title\\\":\")  \n",
    "    role = extract_from_text(response_content,\"\\\"candidate__title\\\": \",\"\\\"candidate__location\\\":\")\n",
    "    address = extract_from_text(response_content,\"\\\"candidate__location\\\": \",\"\\\"candidate__email\\\":\") \n",
    "    email_address = extract_from_text(response_content,\"\\\"candidate__email\\\": \",\"\\\"candidate__phone\\\":\")\n",
    "    phone_number = extract_from_text(response_content,\"\\\"candidate__phone\\\": \",\"\\\"candidate__social_media\\\":\")\n",
    "    social_media = extract_from_text(response_content,\"\\\"candidate__social_media\\\": \",\"\\\"evaluation__ContactInfo\\\":\")\n",
    "    eval__ContactInfo = extract_from_text(response_content,\"\\\"evaluation__ContactInfo\\\": \",\"\\\"score__ContactInfo\\\":\")\n",
    "    score__ContactInfo= extract_from_text(response_content,\"\\\"score__ContactInfo\\\": \",None)\n",
    "\n",
    "    # Create the dictionary\n",
    "    CONTACT_INFORMATION = {}\n",
    "\n",
    "    CONTACT_INFORMATION['Contact__information'] = {\n",
    "        'candidate__name': name[:name.rfind(\",\\n\")].strip()[1:-1],\n",
    "        'candidate__title': role[:role.rfind(\",\\n\")].strip()[1:-1],\n",
    "        'candidate__location': address[:address.rfind(\",\\n\")].strip()[1:-1],\n",
    "        'candidate__email': email_address[:email_address.rfind(\",\\n\")].strip()[1:-1],\n",
    "        'candidate__phone': phone_number[:phone_number.rfind(\",\\n\")].strip()[1:-1],\n",
    "        'candidate__social_media': social_media[0:social_media.rfind(\"}\\n\")-1][1:-1].strip(),\n",
    "        'evaluation__ContactInfo': eval__ContactInfo[0:eval__ContactInfo.rfind(\"}\\n\")-1][1:-1].strip(),\n",
    "        'score__ContactInfo': score__ContactInfo[0:score__ContactInfo.rfind(\"}\\n\")-1].strip()\n",
    "        \n",
    "    } \n",
    "    # Convert score to int\n",
    "    try:\n",
    "        CONTACT_INFORMATION[\"Contact__information\"][\"score__ContactInfo\"] = int(\n",
    "            CONTACT_INFORMATION[\"Contact__information\"][\"score__ContactInfo\"]\n",
    "        )\n",
    "    except:\n",
    "        CONTACT_INFORMATION[\"Contact__information\"][\"score__ContactInfo\"] = -1\n",
    "\n",
    "CONTACT_INFORMATION"
   ]
  },
  {
   "cell_type": "markdown",
   "id": "43690e8f-b161-489b-906f-dc686fe10289",
   "metadata": {},
   "source": [
    "**Let's create a function for parsing any response_content.**"
   ]
  },
  {
   "cell_type": "code",
   "execution_count": 24,
   "id": "f911ce39-8ccd-44c6-badd-3ba11dac79f0",
   "metadata": {},
   "outputs": [],
   "source": [
    "def ResponseContent_Parser(response_content,list_fields,list_rfind,list_exclude_first_car ):\n",
    "    \"\"\"This is a function to parse any response_content.\n",
    "    Parameters:\n",
    "     - response_content (str): the LLM response's content.\n",
    "     - list_fields (list): List of fields to parse.\n",
    "            A field can be a dictionary. The key of the dictionary will not be parsed.\n",
    "            Example: [{'Contact__information':['candidate__name','candidate__title','candidate__location']},\n",
    "                     'CV__summary']\n",
    "            The 'Contact__Information' field content will not be parsed in this example.\n",
    "     - list_rfind (list): To parse the content of a field, we first extract the text between this field and \\\n",
    "            the next field. Then, extract the text using the Python `rfind` command, which returns the highest index in the text \\\n",
    "            where the substring is found.\n",
    "     - list_exclude_first_car (list): Exclusion or not of the first and last characters (i.e. remove \\\")\n",
    "    \n",
    "    Output:\n",
    "      - INFORMATION_dict: A dictionary, where fields are the keys and the extracted texts are the values.\n",
    "     \n",
    "     \"\"\"\n",
    "    # 1. Format the list_fields as a list of tuples. \n",
    "    # Each tuple should contain the field, whether to extract information or not, and the key of the dictionary.\n",
    "    list_fields_formatted = [] \n",
    "    \n",
    "    for field in list_fields:    \n",
    "        if type(field) is dict:\n",
    "            # The key of the dictionary will not be parsed.\n",
    "            list_fields_formatted.append((list(field.keys())[0],False,None)) \n",
    "            for val in list(field.values())[0]:\n",
    "                list_fields_formatted.append((val,True,list(field.keys())[0]))\n",
    "        else:\n",
    "            list_fields_formatted.append((field,True,None))\n",
    "            \n",
    "    list_fields_formatted.append((None,False,None))\n",
    "    \n",
    "    # 2. Parse the response_content\n",
    "    Parsed_content = {}\n",
    "    \n",
    "    for i in range(len(list_fields_formatted)-1):  \n",
    "        if list_fields_formatted[i][1] is False: \n",
    "            Parsed_content[list_fields_formatted[i][0]] = {} # Initialize the dictionary\n",
    "        if list_fields_formatted[i][1]:\n",
    "            # 2.1. Extract the text between this field and the next one\n",
    "            extracted_value = extract_from_text(\n",
    "                response_content,\n",
    "                f\"\\\"{list_fields_formatted[i][0]}\\\": \",\n",
    "                f\"\\\"{list_fields_formatted[i+1][0]}\\\":\"\n",
    "            ) \n",
    "            \n",
    "            # 2.2. Extract the text using the Python `rfind` command, which returns the highest index in the text where the substring is found.\n",
    "            if list_rfind[i] is not None:\n",
    "                extracted_value = extracted_value[:extracted_value.rfind(list_rfind[i])].strip()\n",
    "                \n",
    "            # 2.3. Remove the first and last characters (i.e. remove \\\")\n",
    "            if list_exclude_first_car[i]:\n",
    "                extracted_value = extracted_value[1:-1].strip()\n",
    "\n",
    "            # 2.4. Update the dictionary Parsed_content.\n",
    "            if list_fields_formatted[i][2] is None:\n",
    "                Parsed_content[list_fields_formatted[i][0]] = extracted_value\n",
    "            else:\n",
    "                Parsed_content[list_fields_formatted[i][2]][list_fields_formatted[i][0]] = extracted_value\n",
    " \n",
    "    return Parsed_content"
   ]
  },
  {
   "cell_type": "code",
   "execution_count": 25,
   "id": "96bfbe28-9549-4286-b955-2a719c18793e",
   "metadata": {},
   "outputs": [
    {
     "data": {
      "text/plain": [
       "{'Contact__information': {'candidate__name': 'Name Candidate',\n",
       "  'candidate__title': 'Data Scientist',\n",
       "  'candidate__location': 'unknown',\n",
       "  'candidate__email': 'test@gmail.com',\n",
       "  'candidate__phone': '123456789',\n",
       "  'candidate__social_media': '[]',\n",
       "  'evaluation__ContactInfo': \"The contact information provided is complete and easy to find. It includes the candidate's name, title, email, and phone number. However, it does not include any social media profiles or website.\",\n",
       "  'score__ContactInfo': 80}}"
      ]
     },
     "execution_count": 25,
     "metadata": {},
     "output_type": "execute_result"
    }
   ],
   "source": [
    "# List of keys. A field can be a dictionary. The key of the dict will not be parsed.\n",
    "list_fields = [{'Contact__information':['candidate__name','candidate__title','candidate__location',\n",
    "                                        'candidate__email','candidate__phone','candidate__social_media',\n",
    "                                        'evaluation__ContactInfo','score__ContactInfo']}]\n",
    "# list of rfind\n",
    "list_rfind = [\",\\n\",\",\\n\",\",\\n\",\",\\n\",\",\\n\",\",\\n\",\",\\n\",\",\\n\",\"}\\n\"]\n",
    "\n",
    "# Exclude last and first car:\n",
    "list_exclude_first_car = [True,True,True,True,True,True,False,True,False]\n",
    "\n",
    "# Parse response content\n",
    "CONTACT_INFORMATION = ResponseContent_Parser(response_content,list_fields,list_rfind,list_exclude_first_car)\n",
    "\n",
    "# Convert score to int\n",
    "try:\n",
    "    CONTACT_INFORMATION[\"Contact__information\"][\"score__ContactInfo\"] = int(\n",
    "        CONTACT_INFORMATION[\"Contact__information\"][\"score__ContactInfo\"]\n",
    "    )\n",
    "except:\n",
    "    CONTACT_INFORMATION[\"Contact__information\"][\"score__ContactInfo\"] = -1\n",
    "\n",
    "CONTACT_INFORMATION"
   ]
  },
  {
   "cell_type": "markdown",
   "id": "f565698d-ac80-44cd-9d43-252a81741bcb",
   "metadata": {},
   "source": [
    "**Put it all together**"
   ]
  },
  {
   "cell_type": "code",
   "execution_count": 26,
   "id": "d0900141-888a-45e2-87a0-0e924b732330",
   "metadata": {},
   "outputs": [],
   "source": [
    "def Extract_contact_information(llm, documents):\n",
    "    \"\"\"Extract Contact Information: Name, Title, Location, Email, Phone number and Social media profiles.\"\"\"\n",
    "\n",
    "    try:\n",
    "        response_content, response_tokens_count = invoke_LLM(\n",
    "            llm,\n",
    "            documents,\n",
    "            resume_sections=[\"Contact__information\"],\n",
    "            info_message=\"Extract and evaluate contact information...\",\n",
    "            language=ASSISTAN_LANGUAGE,\n",
    "        )\n",
    "\n",
    "        try:\n",
    "            # Load response_content into json dictionary\n",
    "            CONTACT_INFORMATION = json.loads(response_content, strict=False)\n",
    "        except Exception as e:\n",
    "            print(\"[ERROR] json.loads returns error:\", e)\n",
    "            print(\"\\n['INFO'] Parse response content...\\n\")\n",
    "            list_fields = [{'Contact__information':\n",
    "                            ['candidate__name','candidate__title','candidate__location',\n",
    "                             'candidate__email','candidate__phone','candidate__social_media',\n",
    "                             'evaluation__ContactInfo','score__ContactInfo']\n",
    "                           }]\n",
    "            list_rfind = [\",\\n\",\",\\n\",\",\\n\",\",\\n\",\",\\n\",\",\\n\",\",\\n\",\",\\n\",\"}\\n\"]\n",
    "            list_exclude_first_car = [True,True,True,True,True,True,False,True,False]\n",
    "            CONTACT_INFORMATION = ResponseContent_Parser(response_content,list_fields,list_rfind,list_exclude_first_car)\n",
    "            # Convert the score to int\n",
    "            try:\n",
    "                CONTACT_INFORMATION[\"Contact__information\"][\"score__ContactInfo\"] = int(\n",
    "                    CONTACT_INFORMATION[\"Contact__information\"][\"score__ContactInfo\"]\n",
    "                )\n",
    "            except:\n",
    "                CONTACT_INFORMATION[\"Contact__information\"][\"score__ContactInfo\"] = -1\n",
    "\n",
    "    except Exception as exception:\n",
    "        print(f\"[Error] {exception}\")\n",
    "        CONTACT_INFORMATION = {\n",
    "            \"Contact__information\": {\n",
    "                \"candidate__name\": \"unknown\",\n",
    "                \"candidate__title\": \"unknown\",\n",
    "                \"candidate__location\": \"unknown\",\n",
    "                \"candidate__email\": \"unknown\",\n",
    "                \"candidate__phone\": \"unknown\",\n",
    "                \"candidate__social_media\": \"unknown\",\n",
    "                \"evaluation__ContactInfo\": \"unknown\",\n",
    "                \"score__ContactInfo\": -1,\n",
    "            }\n",
    "        }\n",
    "        \n",
    "    return CONTACT_INFORMATION\n"
   ]
  },
  {
   "cell_type": "code",
   "execution_count": 28,
   "id": "9aa7eb37-620b-4fca-b985-be3bf7f1eee6",
   "metadata": {},
   "outputs": [
    {
     "name": "stdout",
     "output_type": "stream",
     "text": [
      "**17:24:53** \tExtract and evaluate contact information...\n",
      "response tokens: 127\n",
      "CPU times: total: 0 ns\n",
      "Wall time: 4.08 s\n"
     ]
    },
    {
     "data": {
      "text/plain": [
       "{'Contact__information': {'candidate__name': 'Name Candidate',\n",
       "  'candidate__title': 'Data Scientist',\n",
       "  'candidate__location': 'unknown',\n",
       "  'candidate__email': 'test@gmail.com',\n",
       "  'candidate__phone': '123456789',\n",
       "  'candidate__social_media': [],\n",
       "  'evaluation__ContactInfo': \"The contact information provided is complete and easy to find. It includes the candidate's name, title, email, and phone number. However, it does not include any social media profiles or website.\",\n",
       "  'score__ContactInfo': 80}}"
      ]
     },
     "execution_count": 28,
     "metadata": {},
     "output_type": "execute_result"
    }
   ],
   "source": [
    "%%time\n",
    "\n",
    "CONTACT_INFORMATION = Extract_contact_information(llm,documents)\n",
    "CONTACT_INFORMATION"
   ]
  },
  {
   "cell_type": "markdown",
   "id": "d1b9e141-52f3-4ead-8455-e9226b137b2c",
   "metadata": {},
   "source": [
    "## <a class=\"anchor\" id=\"summary\">Summary</a>\n",
    "We will extract the summary section (if available), evaluate and strengthen it using LLM."
   ]
  },
  {
   "cell_type": "code",
   "execution_count": 29,
   "id": "b3d775af-67f1-4009-b721-16f068d7ff3a",
   "metadata": {},
   "outputs": [],
   "source": [
    "def Extract_Evaluate_Summary(llm, documents):\n",
    "    \"\"\"Extract, evaluate and strengthen the summary.\"\"\"\n",
    "\n",
    "    # 1. Extract the summary\n",
    "    ######################################\n",
    "    try:\n",
    "        response_content, response_tokens_count = invoke_LLM(\n",
    "            llm,\n",
    "            documents,\n",
    "            resume_sections=[\"CV__summary\"],\n",
    "            info_message=\"Extract and evaluate the Summary....\",\n",
    "            language=ASSISTAN_LANGUAGE,\n",
    "        )\n",
    "        print(\"summary response:\\n\", response_content)\n",
    "        try:\n",
    "            # Load response_content into json dictionary\n",
    "            SUMMARY_SECTION = json.loads(response_content, strict=False)\n",
    "        except Exception as e:\n",
    "            print(\"[ERROR] json.loads returns error:\", e)\n",
    "            print(\"\\n['INFO'] Parse response content...\\n\")\n",
    "            \n",
    "            list_fields = [\"CV__summary\"]\n",
    "            list_rfind = [\"}\\n\"]\n",
    "            list_exclude_first_car = [True]\n",
    "            SUMMARY_SECTION = ResponseContent_Parser(\n",
    "                response_content, list_fields, list_rfind, list_exclude_first_car\n",
    "            )\n",
    "\n",
    "    except Exception as exception:\n",
    "        print(f\"[Error] {exception}\")\n",
    "        SUMMARY_SECTION = {\"CV__summary\": \"unknown\"}\n",
    "\n",
    "    # 2. Evaluate and improve the summary\n",
    "    #############################################\n",
    "\n",
    "    try:\n",
    "        prompt_template = PromptTemplate.from_template(PROMPT_IMPROVE_SUMMARY)\n",
    "\n",
    "        prompt = prompt_template.format_prompt(\n",
    "            resume=documents,\n",
    "            language=ASSISTAN_LANGUAGE,\n",
    "            summary=SUMMARY_SECTION[\"CV__summary\"],\n",
    "        ).text\n",
    "\n",
    "        # Invoke LLM\n",
    "        response = llm.invoke(prompt)\n",
    "        response_content = response.content[\n",
    "            response.content.find(\"{\") : response.content.rfind(\"}\") + 1\n",
    "        ]\n",
    "\n",
    "        try:\n",
    "            SUMMARY_EVAL = {}\n",
    "            SUMMARY_EVAL[\"Summary__evaluation\"] = json.loads(response_content, strict=False)\n",
    "        except Exception as e:\n",
    "            print(\"[ERROR] json.loads returns error:\", e)\n",
    "            print(\"\\n['INFO'] Parse response content...\\n\")\n",
    "            list_fields = [\n",
    "                \"evaluation__summary\",\n",
    "                \"score__summary\",\n",
    "                \"CV__summary_enhanced\",\n",
    "            ]\n",
    "            list_rfind = [\",\\n\", \",\\n\", \"}\\n\"]\n",
    "            list_exclude_first_car = [True, False, True]\n",
    "            SUMMARY_EVAL[\"Summary__evaluation\"] = ResponseContent_Parser(\n",
    "                response_content, list_fields, list_rfind, list_exclude_first_car\n",
    "            )\n",
    "            # Convert score to int\n",
    "            try:\n",
    "                SUMMARY_EVAL[\"Summary__evaluation\"][\"score__summary\"] = int(\n",
    "                    SUMMARY_EVAL[\"Summary__evaluation\"][\"score__summary\"]\n",
    "                )\n",
    "            except:\n",
    "                SUMMARY_EVAL[\"Summary__evaluation\"][\"score__summary\"] = -1\n",
    "\n",
    "    except Exception as e:\n",
    "        print(e)\n",
    "        SUMMARY_EVAL = {\n",
    "            \"Summary__evaluation\": {\n",
    "                \"evaluation__summary\": \"unknown\",\n",
    "                \"score__summary\": -1,\n",
    "                \"CV__summary_enhanced\": \"unknown\",\n",
    "            }\n",
    "        }\n",
    "\n",
    "    SUMMARY_EVAL[\"CV__summary\"] = SUMMARY_SECTION[\"CV__summary\"]\n",
    "\n",
    "\n",
    "    return SUMMARY_EVAL"
   ]
  },
  {
   "cell_type": "code",
   "execution_count": 30,
   "id": "d32064e0-885a-4382-9867-004f0bbfae0a",
   "metadata": {},
   "outputs": [
    {
     "name": "stdout",
     "output_type": "stream",
     "text": [
      "**17:25:08** \tExtract and evaluate the Summary....\n",
      "response tokens: 76\n",
      "summary response:\n",
      " {\n",
      "  \"CV__summary\": \"Highly skilled and experienced data scientist with a track record of success in both Company \\nX and Company Y. Proficient in a range of programming languages and tools, with a strong \\nability to lead teams and adapt to new challenges. Seeking opportunities to leverage \\nexpertise in data science to drive innovation and business growth.\"\n",
      "}\n",
      "CPU times: total: 15.6 ms\n",
      "Wall time: 11 s\n"
     ]
    },
    {
     "data": {
      "text/plain": [
       "{'Summary__evaluation': {'evaluation__summary': \"The summary is well-written and provides a good overview of the candidate's skills and experience. It is concise and easy to read, and it highlights the candidate's most relevant qualifications. However, the summary could be improved by providing more specific examples of the candidate's accomplishments.\",\n",
       "  'score__summary': 75,\n",
       "  'CV__summary_enhanced': 'Highly skilled and experienced data scientist with 10+ years of experience in both Company X and Company Y. Proficient in a range of programming languages and tools, including TensorFlow, PyTorch, Spark, Spark MLlib, Pandas, Scikit-learn, Tableau, and Plotly. Led a team of data scientists in developing machine learning models for predictive analytics, achieving significant improvements in model accuracy. Implemented Spark and Spark MLlib for big data processing, optimizing performance and scalability. Collaborated with cross-functional teams to deploy machine learning solutions into production environments. Seeking opportunities to leverage expertise in data science to drive innovation and business growth.'},\n",
       " 'CV__summary': 'Highly skilled and experienced data scientist with a track record of success in both Company \\nX and Company Y. Proficient in a range of programming languages and tools, with a strong \\nability to lead teams and adapt to new challenges. Seeking opportunities to leverage \\nexpertise in data science to drive innovation and business growth.'}"
      ]
     },
     "execution_count": 30,
     "metadata": {},
     "output_type": "execute_result"
    }
   ],
   "source": [
    "%%time\n",
    "\n",
    "SUMMARY_EVAL = Extract_Evaluate_Summary(llm,documents)\n",
    "SUMMARY_EVAL"
   ]
  },
  {
   "cell_type": "markdown",
   "id": "3eb4e3f7-1d2c-4978-abf2-1d6014807cf9",
   "metadata": {},
   "source": [
    "## <a class=\"anchor\" id=\"edu_n_language\">Education and Language</a>"
   ]
  },
  {
   "cell_type": "code",
   "execution_count": 31,
   "id": "da9f5e47-da1f-42ea-a3ed-4a9fa7bea3a8",
   "metadata": {},
   "outputs": [
    {
     "name": "stdout",
     "output_type": "stream",
     "text": [
      "**17:25:21** \tExtract and evaluate education and language sections...\n",
      "response tokens: 296\n"
     ]
    },
    {
     "data": {
      "text/plain": [
       "{'CV__Education': [{'edu__college': 'University U1',\n",
       "   'edu__degree': 'Master of Science in Data Science',\n",
       "   'edu__start_date': '2014',\n",
       "   'edu__end_date': 'unknown'}],\n",
       " 'Education__evaluation': {'score__edu': 70,\n",
       "  'evaluation__edu': \"The Education section is concise and provides the necessary information about the candidate's educational background. It includes the name of the college, the degree earned, and the start date. However, it lacks information about the end date and any honors or achievements. Providing this additional information would enhance the quality of the section.\"},\n",
       " 'CV__Languages': [{'spoken__language': 'French',\n",
       "   'language__fluency': 'unknown'},\n",
       "  {'spoken__language': 'English', 'language__fluency': 'unknown'},\n",
       "  {'spoken__language': 'Spanish', 'language__fluency': 'unknown'}],\n",
       " 'Languages__evaluation': {'score__language': 50,\n",
       "  'evaluation__language': \"The Languages section is brief and only lists the languages that the candidate can speak. It does not provide any information about the candidate's fluency in each language. Including this information would improve the quality of the section and provide a better understanding of the candidate's language skills.\"}}"
      ]
     },
     "execution_count": 31,
     "metadata": {},
     "output_type": "execute_result"
    }
   ],
   "source": [
    "################################################################################\n",
    "#                        Education and Language\n",
    "################################################################################\n",
    "\n",
    "try:\n",
    "    response_content, response_tokens_count = invoke_LLM(\n",
    "        llm,\n",
    "        documents,\n",
    "        resume_sections=[\n",
    "            \"CV__Education\",\n",
    "            \"Education__evaluation\",\n",
    "            \"CV__Languages\",\n",
    "            \"Languages__evaluation\",\n",
    "        ],\n",
    "        info_message=\"Extract and evaluate education and language sections...\",\n",
    "        language=ASSISTAN_LANGUAGE,\n",
    "    )\n",
    "\n",
    "    try:\n",
    "        # Load response_content into json dictionary\n",
    "        Education_Language_sections = json.loads(response_content, strict=False)\n",
    "    except Exception as e:\n",
    "        print(\"[ERROR] json.loads returns error:\", e)\n",
    "        Education_Language_sections = {}\n",
    "        \n",
    "except Exception as error:\n",
    "    print(\"[ERROR]:\", error)\n",
    "    Education_Language_sections = {}\n",
    "\n",
    "Education_Language_sections"
   ]
  },
  {
   "cell_type": "markdown",
   "id": "24ac5bf6-4a4c-450a-aefe-452a6d716660",
   "metadata": {},
   "source": [
    "**Parse response_content if json.loads fails**"
   ]
  },
  {
   "cell_type": "code",
   "execution_count": 32,
   "id": "73f4f209-e435-4514-9ec6-15729c86e980",
   "metadata": {},
   "outputs": [
    {
     "data": {
      "text/plain": [
       "{'CV__Education': '{\\n   \"edu__college\": \"University U1\",\\n   \"edu__degree\": \"Master of Science in Data Science\",\\n   \"edu__start_date\": \"2014\",\\n   \"edu__end_date\": \"unknown\"\\n  }',\n",
       " 'Education__evaluation': {'score__edu': '70',\n",
       "  'evaluation__edu': 'The Education section is concise and provides the necessary information about the candidate\\'s educational background. It includes the name of the college, the degree earned, and the start date. However, it lacks information about the end date and any honors or achievements. Providing this additional information would enhance the quality of the section.\"'},\n",
       " 'CV__Languages': '{\\n   \"spoken__language\": \"French\",\\n   \"language__fluency\": \"unknown\"\\n  },\\n  {\\n   \"spoken__language\": \"English\",\\n   \"language__fluency\": \"unknown\"\\n  },\\n  {\\n   \"spoken__language\": \"Spanish\",\\n   \"language__fluency\": \"unknown\"\\n  }',\n",
       " 'Languages__evaluation': {'score__language': '50',\n",
       "  'evaluation__language': 'The Languages section is brief and only lists the languages that the candidate can speak. It does not provide any information about the candidate\\'s fluency in each language. Including this information would improve the quality of the section and provide a better understanding of the candidate\\'s language skills.\"'}}"
      ]
     },
     "execution_count": 32,
     "metadata": {},
     "output_type": "execute_result"
    }
   ],
   "source": [
    "list_fields = ['CV__Education',\n",
    "               {'Education__evaluation':['score__edu','evaluation__edu']},\n",
    "               'CV__Languages',\n",
    "               {'Languages__evaluation':['score__language','evaluation__language']},\n",
    "              ]\n",
    "\n",
    "list_rfind = [\",\\n\",\",\\n\",\",\\n\",\",\\n\",\",\\n\",\",\\n\",\",\\n\",\"\\n\"] \n",
    "list_exclude_first_car = [True,True,False,True,True,True,False,True] \n",
    "\n",
    "Education_Language_sections = ResponseContent_Parser(response_content,list_fields,list_rfind,list_exclude_first_car)\n",
    "Education_Language_sections"
   ]
  },
  {
   "cell_type": "markdown",
   "id": "0bbd4e3c-6a0b-4087-be23-9177169a5959",
   "metadata": {},
   "source": [
    "**Now we need to split the list of languages and educational background.**\n",
    "\n",
    "We will create a function to split a text containing a list of dicts into a Python list of dicts."
   ]
  },
  {
   "cell_type": "code",
   "execution_count": 33,
   "id": "2ab2df01-3d83-401d-b9f1-3ef30d9bc2dc",
   "metadata": {},
   "outputs": [],
   "source": [
    "def convert_text_to_list_of_dicts(text,dict_keys):\n",
    "    \"\"\"Convert text to a python list of dicts.\n",
    "    Parameters:\n",
    "     - text: string containing a list of dicts\n",
    "     - dict_keys (list): the keys of the dictionary which will be returned.\n",
    "    Output:\n",
    "     - list_of_dicts (list): the list of dicts to return.\n",
    "     \"\"\"\n",
    "    list_of_dicts = []\n",
    "\n",
    "    if text!=\"\": # if non-empty list\n",
    "        text_splitted = text.split(\"},\\n\")\n",
    "        dict_keys.append(None)\n",
    "        \n",
    "        for i in range(len(text_splitted)):\n",
    "            dict_i = {}    \n",
    "            \n",
    "            for j in range(len(dict_keys)-1):\n",
    "                key_value = extract_from_text(text_splitted[i],f\"\\\"{dict_keys[j]}\\\": \",f\"\\\"{dict_keys[j+1]}\\\": \")\n",
    "                key_value = key_value[:key_value.rfind(\",\\n\")].strip()[1:-1]      \n",
    "                dict_i[dict_keys[j]] = key_value    \n",
    "        \n",
    "            list_of_dicts.append(dict_i) # add the dict to the list.\n",
    "        \n",
    "    return list_of_dicts"
   ]
  },
  {
   "cell_type": "code",
   "execution_count": 34,
   "id": "dcb955b6-129d-4625-85f3-6f42371bc228",
   "metadata": {},
   "outputs": [
    {
     "data": {
      "text/plain": [
       "[{'spoken__language': 'French', 'language__fluency': 'unknown'},\n",
       " {'spoken__language': 'English', 'language__fluency': 'unknown'},\n",
       " {'spoken__language': 'Spanish', 'language__fluency': 'unkno'}]"
      ]
     },
     "execution_count": 34,
     "metadata": {},
     "output_type": "execute_result"
    }
   ],
   "source": [
    "languages = Education_Language_sections['CV__Languages']\n",
    "Education_Language_sections['CV__Languages'] = convert_text_to_list_of_dicts(\n",
    "    text = languages[languages.find('[')+1:languages.rfind(\"]\")].strip(),\n",
    "    dict_keys = ['spoken__language','language__fluency']\n",
    ")\n",
    "Education_Language_sections['CV__Languages']"
   ]
  },
  {
   "cell_type": "code",
   "execution_count": 35,
   "id": "22c5f8dc-3496-48f0-93e6-00f657253c04",
   "metadata": {},
   "outputs": [
    {
     "data": {
      "text/plain": [
       "[{'edu__college': 'University U1',\n",
       "  'edu__degree': 'Master of Science in Data Science',\n",
       "  'edu__start_date': '2014',\n",
       "  'edu__end_date': 'unkno'}]"
      ]
     },
     "execution_count": 35,
     "metadata": {},
     "output_type": "execute_result"
    }
   ],
   "source": [
    "education = Education_Language_sections['CV__Education']\n",
    "Education_Language_sections['CV__Education'] = convert_text_to_list_of_dicts(\n",
    "    text = education[education.find('[')+1:education.rfind(\"]\")].strip(),\n",
    "    dict_keys = ['edu__college','edu__degree','edu__start_date','edu__end_date']\n",
    ")\n",
    "Education_Language_sections['CV__Education']"
   ]
  },
  {
   "cell_type": "markdown",
   "id": "3b55e8f4-f463-4e25-a4e7-5fc2263b71ef",
   "metadata": {},
   "source": [
    "**Putting it all together**"
   ]
  },
  {
   "cell_type": "code",
   "execution_count": 36,
   "id": "a7712aec-c76d-444e-8d1e-0e7961919e99",
   "metadata": {},
   "outputs": [],
   "source": [
    "def Extract_Education_Language(llm, documents):\n",
    "    \"\"\"Extract and evaluate education and language sections.\"\"\"\n",
    "\n",
    "    try:\n",
    "        response_content, response_tokens_count = invoke_LLM(\n",
    "            llm,\n",
    "            documents,\n",
    "            resume_sections=[\n",
    "                \"CV__Education\",\n",
    "                \"Education__evaluation\",\n",
    "                \"CV__Languages\",\n",
    "                \"Languages__evaluation\",\n",
    "            ],\n",
    "            info_message=\"Extract and evaluate education and language sections...\",\n",
    "            language=ASSISTAN_LANGUAGE,\n",
    "        )\n",
    "\n",
    "        try:\n",
    "            # Load response_content into json dictionary\n",
    "            Education_Language_sections = json.loads(response_content, strict=False)\n",
    "        except Exception as e:\n",
    "            print(\"[ERROR] json.loads returns error:\", e)\n",
    "            print(\"\\n['INFO'] Parse response content...\\n\")\n",
    "\n",
    "            list_fields = [\n",
    "                \"CV__Education\",\n",
    "                {\"Education__evaluation\": [\"score__edu\", \"evaluation__edu\"]},\n",
    "                \"CV__Languages\",\n",
    "                {\"Languages__evaluation\": [\"score__language\", \"evaluation__language\"]},\n",
    "            ]\n",
    "\n",
    "            list_rfind = [\",\\n\", \",\\n\", \",\\n\", \",\\n\", \",\\n\", \",\\n\", \",\\n\", \"\\n\"]\n",
    "            list_exclude_first_car = [True, True, False, True, True, True, False, True]\n",
    "\n",
    "            Education_Language_sections = ResponseContent_Parser(response_content, list_fields, list_rfind, list_exclude_first_car)\n",
    "\n",
    "            # Convert scores to int\n",
    "            try:\n",
    "                Education_Language_sections[\"Education__evaluation\"][\"score__edu\"] = int(\n",
    "                    Education_Language_sections[\"Education__evaluation\"][\"score__edu\"]\n",
    "                )\n",
    "            except:\n",
    "                Education_Language_sections[\"Education__evaluation\"][\"score__edu\"] = -1\n",
    "                \n",
    "            try:\n",
    "                Education_Language_sections[\"Languages__evaluation\"][\"score__language\"] = int(\n",
    "                    Education_Language_sections[\"Languages__evaluation\"][\"score__language\"]\n",
    "                )\n",
    "            except:\n",
    "                Education_Language_sections[\"Languages__evaluation\"][\"score__language\"] = -1\n",
    "\n",
    "            # Split languages and educational texts into a Python list of dict\n",
    "            languages = Education_Language_sections[\"CV__Languages\"]\n",
    "            Education_Language_sections[\"CV__Languages\"] = (\n",
    "                convert_text_to_list_of_dicts(\n",
    "                    text=languages[\n",
    "                        languages.find(\"[\") + 1 : languages.rfind(\"]\")\n",
    "                    ].strip(),\n",
    "                    dict_keys=[\"spoken__language\", \"language__fluency\"],\n",
    "                )\n",
    "            )\n",
    "            education = Education_Language_sections[\"CV__Education\"]\n",
    "            Education_Language_sections[\"CV__Education\"] = (\n",
    "                convert_text_to_list_of_dicts(\n",
    "                    text=education[\n",
    "                        education.find(\"[\") + 1 : education.rfind(\"]\")\n",
    "                    ].strip(),\n",
    "                    dict_keys=[\n",
    "                        \"edu__college\",\n",
    "                        \"edu__degree\",\n",
    "                        \"edu__start_date\",\n",
    "                        \"edu__end_date\",\n",
    "                    ],\n",
    "                )\n",
    "            )\n",
    "    except Exception as exception:\n",
    "        print(f\"[Error] {exception}\")\n",
    "        Education_Language_sections = {\n",
    "            \"CV__Education\": [],\n",
    "            \"Education__evaluation\": {\n",
    "                \"score__edu\": -1, \n",
    "                \"evaluation__edu\": \"unknown\"\n",
    "            },\n",
    "            \"CV__Languages\": [],\n",
    "            \"Languages__evaluation\": {\n",
    "                \"score__language\": -1,\n",
    "                \"evaluation__language\": \"unknown\",\n",
    "            },\n",
    "        }\n",
    "\n",
    "    return Education_Language_sections"
   ]
  },
  {
   "cell_type": "code",
   "execution_count": 37,
   "id": "5dc5c85d-371d-44b3-9d16-79ea7c97e75b",
   "metadata": {},
   "outputs": [
    {
     "name": "stdout",
     "output_type": "stream",
     "text": [
      "**17:25:48** \tExtract and evaluate education and language sections...\n",
      "response tokens: 296\n",
      "CPU times: total: 0 ns\n",
      "Wall time: 7.1 s\n"
     ]
    },
    {
     "data": {
      "text/plain": [
       "{'CV__Education': [{'edu__college': 'University U1',\n",
       "   'edu__degree': 'Master of Science in Data Science',\n",
       "   'edu__start_date': '2014',\n",
       "   'edu__end_date': 'unknown'}],\n",
       " 'Education__evaluation': {'score__edu': 70,\n",
       "  'evaluation__edu': \"The Education section is concise and provides the necessary information about the candidate's educational background. It includes the name of the college, the degree earned, and the start date. However, it lacks information about the end date and any honors or achievements. Providing this additional information would enhance the quality of the section.\"},\n",
       " 'CV__Languages': [{'spoken__language': 'French',\n",
       "   'language__fluency': 'unknown'},\n",
       "  {'spoken__language': 'English', 'language__fluency': 'unknown'},\n",
       "  {'spoken__language': 'Spanish', 'language__fluency': 'unknown'}],\n",
       " 'Languages__evaluation': {'score__language': 50,\n",
       "  'evaluation__language': \"The Languages section is brief and only lists the languages that the candidate can speak. It does not provide any information about the candidate's fluency in each language. Including this information would improve the quality of the section and provide a better understanding of the candidate's language skills.\"}}"
      ]
     },
     "execution_count": 37,
     "metadata": {},
     "output_type": "execute_result"
    }
   ],
   "source": [
    "%%time\n",
    "\n",
    "Education_Language_sections = Extract_Education_Language(llm,documents)\n",
    "Education_Language_sections"
   ]
  },
  {
   "cell_type": "markdown",
   "id": "aba9d6e1-4677-4e75-a85d-f2b1a9cb29ba",
   "metadata": {},
   "source": [
    "## <a class=\"anchor\" id=\"skills_certifs\">Skills and  Certifications</a>"
   ]
  },
  {
   "cell_type": "code",
   "execution_count": 38,
   "id": "246f46e0-d670-4711-864e-05308fe9b698",
   "metadata": {},
   "outputs": [],
   "source": [
    "################################################################################\n",
    "#                     SKILLS and Certifications\n",
    "################################################################################\n",
    "\n",
    "def Extract_Skills_and_Certifications(llm, documents):\n",
    "    \"\"\"Extract Skills and certifications and evaluate these sections.\"\"\"\n",
    "\n",
    "    try:\n",
    "        response_content, response_tokens_count = invoke_LLM(\n",
    "            llm,\n",
    "            documents,\n",
    "            resume_sections=[\"candidate__skills\",\"Skills__evaluation\",\"CV__Certifications\",\"Certif__evaluation\"],\n",
    "            info_message=\"Extract and evaluate the skills and certifications...\",\n",
    "            language=ASSISTAN_LANGUAGE,\n",
    "        )\n",
    "\n",
    "        try:\n",
    "            # Load response_content into json dictionary\n",
    "            SKILLS_and_CERTIF = json.loads(response_content, strict=False)\n",
    "        except Exception as e:\n",
    "            print(\"[ERROR] json.loads returns error:\", e)\n",
    "            print(\"\\n['INFO'] Parse response content...\\n\")\n",
    "\n",
    "            skills = extract_from_text(response_content,\"\\\"candidate__skills\\\": \", \"\\\"Skills__evaluation\\\":\")\n",
    "            skills = skills.replace(\"\\n  \",\"\\n\").replace(\"],\\n\",\"\").replace(\"[\\n\",\"\")\n",
    "            score_skills = extract_from_text(response_content,\"\\\"score__skills\\\": \", \"\\\"evaluation__skills\\\":\")\n",
    "            evaluation_skills = extract_from_text(response_content,\"\\\"evaluation__skills\\\": \", \"\\\"CV__Certifications\\\":\")\n",
    "            \n",
    "            certif_text = extract_from_text(response_content,\"\\\"CV__Certifications\\\": \", \"\\\"Certif__evaluation\\\":\")\n",
    "            certif_score = extract_from_text(response_content,\"\\\"score__certif\\\": \", \"\\\"evaluation__certif\\\":\")\n",
    "            certif_eval = extract_from_text(response_content,\"\\\"evaluation__certif\\\": \", None)\n",
    "\n",
    "\n",
    "            # Create the dictionary\n",
    "            SKILLS_and_CERTIF = {}\n",
    "            SKILLS_and_CERTIF[\"candidate__skills\"] = [skill.strip()[1:-1] for skill in skills.split(\",\\n\")]  \n",
    "            \n",
    "            # Convert the score to int\n",
    "            try:\n",
    "                score_skills_int = int(score_skills[0 : score_skills.rfind(\",\\n\")])\n",
    "            except:\n",
    "                score_skills_int = -1\n",
    "                \n",
    "            SKILLS_and_CERTIF[\"Skills__evaluation\"] = {\n",
    "                \"score__skills\": score_skills_int,\n",
    "                \"evaluation__skills\": evaluation_skills[: evaluation_skills.rfind(\"}\\n\")].strip()[1:-1],\n",
    "            }\n",
    "\n",
    "            # Convert text to list of dictionaries\n",
    "            list_certifs = convert_text_to_list_of_dicts(\n",
    "                text=certif_text[certif_text.find(\"[\") + 1 : certif_text.rfind(\"]\")].strip(),  \n",
    "                dict_keys=[\n",
    "                    \"certif__title\",\n",
    "                    \"certif__organization\",\n",
    "                    \"certif__date\",\n",
    "                    \"certif__expiry_date\",\n",
    "                    \"certif__details\",\n",
    "                ],\n",
    "            )\n",
    "            SKILLS_and_CERTIF[\"CV__Certifications\"] = list_certifs\n",
    "            try:\n",
    "                certif_score_int = int(certif_score[0 : certif_score.rfind(\",\\n\")])\n",
    "            except:\n",
    "                certif_score_int = -1\n",
    "            SKILLS_and_CERTIF[\"Certif__evaluation\"] = {\n",
    "                \"score__certif\": certif_score_int,\n",
    "                \"evaluation__certif\": certif_eval[: certif_eval.rfind(\"}\\n\")].strip()[1:-1],\n",
    "            }\n",
    "\n",
    "    except Exception as exception:\n",
    "        SKILLS_and_CERTIF = {\n",
    "            \"candidate__skills\": [],\n",
    "            \"Skills__evaluation\": {\n",
    "                \"score__skills\": -1,\n",
    "                \"evaluation__skills\": \"unknown\",\n",
    "            },\n",
    "            \"CV__Certifications\": [],\n",
    "            \"Certif__evaluation\": {\n",
    "                \"score__certif\": -1,\n",
    "                \"evaluation__certif\": \"unknown\",\n",
    "            },\n",
    "        }\n",
    "        print(f\"[Error] {exception}\")\n",
    "\n",
    "    return SKILLS_and_CERTIF\n"
   ]
  },
  {
   "cell_type": "code",
   "execution_count": 39,
   "id": "599b93ff-12ce-4e06-a7c2-7a2443abcb67",
   "metadata": {},
   "outputs": [
    {
     "name": "stdout",
     "output_type": "stream",
     "text": [
      "**17:26:08** \tExtract and evaluate the skills and certifications...\n",
      "response tokens: 339\n",
      "CPU times: total: 0 ns\n",
      "Wall time: 7.89 s\n"
     ]
    },
    {
     "data": {
      "text/plain": [
       "{'candidate__skills': ['Python',\n",
       "  'Java',\n",
       "  'TensorFlow',\n",
       "  'PyTorch',\n",
       "  'Spark',\n",
       "  'Spark MLlib',\n",
       "  'Pandas',\n",
       "  'Scikit-learn',\n",
       "  'Tableau',\n",
       "  'Plotly',\n",
       "  'MySQL',\n",
       "  'Oracle',\n",
       "  'Flask',\n",
       "  'HTML',\n",
       "  'Team leadership',\n",
       "  'Adaptability'],\n",
       " 'Skills__evaluation': {'score__skills': 80,\n",
       "  'evaluation__skills': \"The Skills section is well-structured and provides a comprehensive list of both hard and soft skills. The skills are relevant to the data science field and demonstrate the candidate's proficiency in a wide range of technologies and techniques. However, the section could benefit from further elaboration on the candidate's experience and expertise in each skill.\"},\n",
       " 'CV__Certifications': [{'certif__title': 'TensorFlow Developer Certificate',\n",
       "   'certif__organization': 'unknown',\n",
       "   'certif__date': '2022',\n",
       "   'certif__expiry_date': '2025',\n",
       "   'certif__details': 'unknown'}],\n",
       " 'Certif__evaluation': {'score__certif': 70,\n",
       "  'evaluation__certif': \"The candidate has provided information about one certification, the TensorFlow Developer Certificate. While this certification is relevant to the data science field, it would be beneficial to include more details about the certification, such as the issuing organization and any specific skills or knowledge it covers. Additionally, providing information about any other relevant certifications would enhance the credibility of the candidate's qualifications.\"}}"
      ]
     },
     "execution_count": 39,
     "metadata": {},
     "output_type": "execute_result"
    }
   ],
   "source": [
    "%%time\n",
    "\n",
    "SKILLS_and_CERTIF = Extract_Skills_and_Certifications(llm,documents)\n",
    "SKILLS_and_CERTIF"
   ]
  },
  {
   "cell_type": "markdown",
   "id": "e1901bfd-94ee-40c9-9ddc-0e38c5c55b22",
   "metadata": {},
   "source": [
    "## <a class=\"anchor\" id=\"professional\">Work experience and Projects</a>\n",
    "\n",
    "In this section we will extract:\n",
    "1. **work experience:** job title, company and dates.\n",
    "2. **projects:** project title and dates\n",
    "\n",
    "Note that we will not extract job responsibilities or project details in this section to avoid exceeding the output token limit, particularly for `gemini-pro`.\n",
    "\n",
    "We will extract these details in a separate section using our CohereRerank retriever."
   ]
  },
  {
   "cell_type": "code",
   "execution_count": 40,
   "id": "ca373bcc-ebb8-419f-bf84-97567bc0e564",
   "metadata": {},
   "outputs": [],
   "source": [
    "def Extract_PROFESSIONAL_EXPERIENCE(llm, documents):\n",
    "    \"\"\"Extract the list of work experience and projects.\"\"\"\n",
    "\n",
    "    try:\n",
    "        response_content, response_tokens_count = invoke_LLM(\n",
    "            llm,\n",
    "            documents,\n",
    "            resume_sections=[\"Work__experience\", \"CV__Projects\"],\n",
    "            info_message=\"Extract list of work experience and projects...\",\n",
    "            language=ASSISTAN_LANGUAGE,\n",
    "        )\n",
    "\n",
    "        try:\n",
    "            # Load response_content into json dictionary\n",
    "            PROFESSIONAL_EXPERIENCE = json.loads(response_content+\"}\", strict=False)\n",
    "        except Exception as e:\n",
    "            print(\"[ERROR] json.loads returns error:\", e)\n",
    "            print(\"\\n['INFO'] Parse response content...\\n\")\n",
    "            work_experiences = extract_from_text(response_content, '\"Work__experience\": ', '\"CV__Projects\":')\n",
    "            projects = extract_from_text(response_content, '\"CV__Projects\": ', None)\n",
    "\n",
    "            # Create the dictionary\n",
    "            PROFESSIONAL_EXPERIENCE = {}\n",
    "            PROFESSIONAL_EXPERIENCE[\"Work__experience\"] = convert_text_to_list_of_dicts(\n",
    "                text=work_experiences[work_experiences.find(\"[\") + 1 : work_experiences.rfind(\"]\")].strip()[1:-1],\n",
    "                dict_keys=[\"job__title\", \"job__company\", \"job__start_date\", \"job__end_date\"],\n",
    "            )\n",
    "            PROFESSIONAL_EXPERIENCE[\"CV__Projects\"] = convert_text_to_list_of_dicts(\n",
    "                text=projects[projects.find(\"[\") + 1 : projects.rfind(\"]\")].strip()[1:-1],\n",
    "                dict_keys=[\"project__title\", \"project__start_date\", \"project__end_date\"],\n",
    "            )\n",
    "        # delete 'unknown' projects and work experience\n",
    "        try:\n",
    "            for work_experience in PROFESSIONAL_EXPERIENCE[\"Work__experience\"]:\n",
    "                if work_experience[\"job__title\"] == \"unknown\":\n",
    "                    PROFESSIONAL_EXPERIENCE[\"Work__experience\"].remove(work_experience)\n",
    "        except Exception as e:\n",
    "            print(e)\n",
    "        try:\n",
    "            for project in PROFESSIONAL_EXPERIENCE[\"CV__Projects\"]:\n",
    "                if project[\"project__title\"] == \"unknown\":\n",
    "                    PROFESSIONAL_EXPERIENCE[\"CV__Projects\"].remove(project)\n",
    "        except Exception as e:\n",
    "            print(e)\n",
    "\n",
    "    except Exception as exception:\n",
    "        PROFESSIONAL_EXPERIENCE = {\n",
    "            \"Work__experience\": [],\n",
    "            \"CV__Projects\": []\n",
    "        }\n",
    "        print(exception)\n",
    "        \n",
    "    return PROFESSIONAL_EXPERIENCE\n"
   ]
  },
  {
   "cell_type": "code",
   "execution_count": 41,
   "id": "8dca3a0c-adee-48c3-8a3c-4227b9f57b65",
   "metadata": {},
   "outputs": [
    {
     "name": "stdout",
     "output_type": "stream",
     "text": [
      "**17:26:44** \tExtract list of work experience and projects...\n",
      "response tokens: 191\n",
      "[ERROR] json.loads returns error: Extra data: line 28 column 2 (char 619)\n",
      "\n",
      "['INFO'] Parse response content...\n",
      "\n",
      "CPU times: total: 0 ns\n",
      "Wall time: 5.57 s\n"
     ]
    },
    {
     "data": {
      "text/plain": [
       "{'Work__experience': [{'job__title': 'Data Scientist',\n",
       "   'job__company': 'Company Y',\n",
       "   'job__start_date': '2019',\n",
       "   'job__end_date': '2024'},\n",
       "  {'job__title': 'Data Scientist',\n",
       "   'job__company': 'Company X',\n",
       "   'job__start_date': '2014',\n",
       "   'job__end_date': '2019'}],\n",
       " 'CV__Projects': [{'project__title': 'Chat with Your Data Using Retrieval Augmented Generation',\n",
       "   'project__start_date': 'unknown',\n",
       "   'project__end_date': 'unknown'},\n",
       "  {'project__title': 'Improve Resume Using the Power of LLM',\n",
       "   'project__start_date': 'unknown',\n",
       "   'project__end_date': 'unknown'}]}"
      ]
     },
     "execution_count": 41,
     "metadata": {},
     "output_type": "execute_result"
    }
   ],
   "source": [
    "%%time\n",
    "\n",
    "PROFESSIONAL_EXPERIENCE = Extract_PROFESSIONAL_EXPERIENCE(llm,documents)\n",
    "PROFESSIONAL_EXPERIENCE"
   ]
  },
  {
   "cell_type": "markdown",
   "id": "70ec3331-aaf9-4ab6-92c1-faeda9480cee",
   "metadata": {},
   "source": [
    "## <a class=\"anchor\" id=\"professional_details\">Work experience responsibilities and project details</a>\n",
    "\n",
    "In this section, we will extract work experience responsibilities and project details. We will levarage our CohereRerank retriever to pass only relevant documents to the LLM (instead of all documents)."
   ]
  },
  {
   "cell_type": "code",
   "execution_count": 42,
   "id": "e070bab3",
   "metadata": {},
   "outputs": [],
   "source": [
    "def get_relevant_documents(query,documents,retriever):\n",
    "    \"\"\"Retreieve most relevant documents from Langchain documents using the CoherRerank retriever.\"\"\"\n",
    "\n",
    "    # 1.1. Get relevant documents using the CohereRerank retriever\n",
    "\n",
    "    retrieved_docs = retriever.get_relevant_documents(query)\n",
    "\n",
    "    # 1.2. Keep only relevant documents where (relevance_score >= (max(relevance_scores) - 0.1))\n",
    "\n",
    "    relevance_scores = [\n",
    "        retrieved_docs[j].metadata[\"relevance_score\"]\n",
    "        for j in range(len(retrieved_docs))\n",
    "    ]\n",
    "    max_relevance_score = max(relevance_scores)\n",
    "    threshold = max_relevance_score - 0.1\n",
    "\n",
    "    relevant_doc_ids = []\n",
    "\n",
    "    for j in range(len(retrieved_docs)):\n",
    "\n",
    "        # Keep relevant documents with (relevance_score >= threshold)\n",
    "        if retrieved_docs[j].metadata[\"relevance_score\"] >= threshold:\n",
    "            relevant_doc_ids.append(retrieved_docs[j].metadata[\"doc_number\"])\n",
    "\n",
    "    # Append the next document to the most relevant document, as relevant information may be split between two documents.\n",
    "    relevant_doc_ids.append(min(relevant_doc_ids[0]+1, len(documents)-1))\n",
    "\n",
    "    relevant_doc_ids = sorted(set(relevant_doc_ids))  # Sort doc ids\n",
    "    \n",
    "    # get the most relevant documents (+ next document)\n",
    "    relevant_documents = [\n",
    "        documents[k] for k in relevant_doc_ids\n",
    "    ]  \n",
    "\n",
    "    return relevant_documents"
   ]
  },
  {
   "cell_type": "code",
   "execution_count": 43,
   "id": "dee7a6f6-b237-4bb8-8d84-65c171d670d7",
   "metadata": {},
   "outputs": [],
   "source": [
    "##############################################################################\n",
    "#                EXTRACT WORK EXPERIENCE RESPONSIBILITIES \n",
    "##############################################################################\n",
    "\n",
    "def Extract_Job_Responsibilities(llm, documents, retriever, PROFESSIONAL_EXPERIENCE):\n",
    "    \"\"\"Extract job responsibilities for each job in PROFESSIONAL_EXPERIENCE.\"\"\"\n",
    "\n",
    "    now = (datetime.datetime.now()).strftime(\"%H:%M:%S\")\n",
    "    print(f\"**{now}** \\tExtract work experience responsabilities...\")\n",
    "\n",
    "    for i in range(len(PROFESSIONAL_EXPERIENCE[\"Work__experience\"])):\n",
    "        try:\n",
    "            Work_experience_i = PROFESSIONAL_EXPERIENCE[\"Work__experience\"][i]\n",
    "            print(f\"\\n\\n{i}: {Work_experience_i['job__title']}\", end=\" | \")\n",
    "\n",
    "            # 1. Query\n",
    "            query = f\"\"\"Extract from the resume delimited by triple backticks \\\n",
    "all the duties and responsabilities of the following work experience: \\\n",
    "(title = '{Work_experience_i['job__title']}'\"\"\"\n",
    "            if str(Work_experience_i[\"job__company\"]) != \"unknown\":\n",
    "                query += f\" and company = '{Work_experience_i['job__company']}'\"\n",
    "            if str(Work_experience_i[\"job__start_date\"]) != \"unknown\":\n",
    "                query += f\" and start date = '{Work_experience_i['job__start_date']}'\"\n",
    "            if str(Work_experience_i[\"job__end_date\"]) != \"unknown\":\n",
    "                query += f\" and end date = '{Work_experience_i['job__end_date']}'\"\n",
    "            query += \")\\n\"\n",
    "\n",
    "            # 2. For longer CVs (i.e. number of documents > 2), \n",
    "            # use the CohereRerank retriever to find the most relevant documents.\n",
    "            if len(documents)>2:\n",
    "                try:\n",
    "                    relevant_documents = get_relevant_documents(query, documents, retriever)\n",
    "                except Exception as err:\n",
    "                    print(f\"[ERROR] get_relevant_documents error: {err}\")\n",
    "                    relevant_documents = documents\n",
    "            else:\n",
    "                relevant_documents = documents\n",
    "                \n",
    "            print(f\"relevant docs : {len(relevant_documents)}\", end=\" | \")\n",
    "\n",
    "            # 3. Invoke the LLM            \n",
    "            prompt = (\n",
    "                query\n",
    "                + f\"\"\"Output the duties in a json dictionary with the following keys (__duty_id__,__duty__). \\\n",
    "Use this format: \"1\":\"duty\",\"2\":\"another duty\".\n",
    "Resume:\\n\\n ```{relevant_documents}```\"\"\"\n",
    "            )\n",
    "\n",
    "            print(f\"prompt tokens: {sum(tiktoken_tokens([prompt]))}\", end=\" | \")\n",
    "\n",
    "            response = llm.invoke(prompt)\n",
    "            response_content = response.content[response.content.find(\"{\") : response.content.rfind(\"}\") + 1]\n",
    "            print(f\"\"\"response tokens: {sum(tiktoken_tokens([response_content]))}\"\"\")\n",
    "\n",
    "            try:\n",
    "                # 4. Convert the response content to json dict and update work_experience\n",
    "                Work_experience_i[\"work__duties\"] = json.loads(response_content, strict=False)  \n",
    "            except Exception as e:\n",
    "                print(\"\\n[ERROR] json.loads returns error:\", e, \"\\n\\n\")\n",
    "                print(\"\\n['INFO'] Parse response content...\\n\")                \n",
    "                Work_experience_i[\"work__duties\"] = {}\n",
    "                list_duties = (\n",
    "                    response_content[response_content.find(\"{\") + 1 : response_content.rfind(\"}\")].strip().split(\",\\n\")\n",
    "                )\n",
    "                for j in range(len(list_duties)):\n",
    "                    try:\n",
    "                        Work_experience_i[\"work__duties\"][f\"{j+1}\"] = (list_duties[j].split('\":')[1].strip()[1:-1])\n",
    "                    except:\n",
    "                        Work_experience_i[\"work__duties\"][f\"{j+1}\"] = \"unknown\"\n",
    "\n",
    "        except Exception as exception:\n",
    "            print(f\"[ERROR] {exception}\")\n",
    "            Work_experience_i[\"work__duties\"] = {}          \n",
    "\n",
    "    return PROFESSIONAL_EXPERIENCE\n"
   ]
  },
  {
   "cell_type": "code",
   "execution_count": 44,
   "id": "08cae22a-5c42-495a-872c-acd9b1b4570d",
   "metadata": {},
   "outputs": [
    {
     "name": "stdout",
     "output_type": "stream",
     "text": [
      "**17:27:06** \tExtract work experience responsabilities...\n",
      "\n",
      "\n",
      "0: Data Scientist | relevant docs : 1 | prompt tokens: 826 | response tokens: 130\n",
      "\n",
      "\n",
      "1: Data Scientist | relevant docs : 1 | prompt tokens: 826 | response tokens: 132\n",
      "CPU times: total: 31.2 ms\n",
      "Wall time: 7.25 s\n"
     ]
    },
    {
     "data": {
      "text/plain": [
       "[{'job__title': 'Data Scientist',\n",
       "  'job__company': 'Company Y',\n",
       "  'job__start_date': '2019',\n",
       "  'job__end_date': '2024',\n",
       "  'work__duties': {'1': 'Led a team of data scientists in developing machine learning models for predictive analytics.',\n",
       "   '2': 'Utilized TensorFlow and PyTorch for deep learning projects, achieving significant improvements in model accuracy.',\n",
       "   '3': 'Implemented Spark and Spark MLlib for big data processing, optimizing performance and scalability.',\n",
       "   '4': 'Conducted data analysis using Tableau and Plotly, generating actionable insights for business stakeholders.',\n",
       "   '5': 'Collaborated with cross-functional teams to deploy machine learning solutions into production environments.',\n",
       "   '6': 'Mentored junior team members, fostering their professional growth and development.'}},\n",
       " {'job__title': 'Data Scientist',\n",
       "  'job__company': 'Company X',\n",
       "  'job__start_date': '2014',\n",
       "  'job__end_date': '2019',\n",
       "  'work__duties': {'1': 'Spearheaded data science initiatives, focusing on improving customer engagement and retention.',\n",
       "   '2': 'Employed Python, Pandas, and Scikit-learn for data preprocessing and predictive modeling tasks.',\n",
       "   '3': 'Managed MySQL and Oracle databases, ensuring data integrity and accessibility for analysis.',\n",
       "   '4': 'Developed web applications using Flask and HTML to visualize and interact with data.',\n",
       "   '5': 'Served as a team leader, coordinating project timelines and priorities to meet business objectives.',\n",
       "   '6': 'Demonstrated adaptability in rapidly evolving business environments, delivering solutions on time and within budget.'}}]"
      ]
     },
     "execution_count": 44,
     "metadata": {},
     "output_type": "execute_result"
    }
   ],
   "source": [
    "%%time\n",
    "\n",
    "PROFESSIONAL_EXPERIENCE = Extract_Job_Responsibilities(llm,documents,retriever,PROFESSIONAL_EXPERIENCE)\n",
    "PROFESSIONAL_EXPERIENCE['Work__experience']"
   ]
  },
  {
   "cell_type": "code",
   "execution_count": 45,
   "id": "e8c863ca-9a3c-4c39-8d81-ffe60205ff20",
   "metadata": {},
   "outputs": [],
   "source": [
    "def Extract_Project_Details(llm, documents, retriever, PROFESSIONAL_EXPERIENCE):\n",
    "    \"\"\"Extract project details for each project in PROFESSIONAL_EXPERIENCE.\"\"\"\n",
    "\n",
    "    now = (datetime.datetime.now()).strftime(\"%H:%M:%S\")\n",
    "    print(f\"**{now}** \\tExtract project details...\")\n",
    "\n",
    "    for i in range(len(PROFESSIONAL_EXPERIENCE[\"CV__Projects\"])):\n",
    "        try:\n",
    "            project_i = PROFESSIONAL_EXPERIENCE[\"CV__Projects\"][i]\n",
    "            print(f\"{i}: {project_i['project__title']}\", end=\" | \")\n",
    "\n",
    "            # 1. Extract relevant documents\n",
    "            query = f\"\"\"Extract from the resume (delimited by triple backticks) what is listed about the following project: \\\n",
    "(project title = '{project_i['project__title']}'\"\"\"\n",
    "            if str(project_i[\"project__start_date\"]) != \"unknown\":\n",
    "                query += f\" and start date = '{project_i['project__start_date']}'\"\n",
    "            if str(project_i[\"project__end_date\"]) != \"unknown\":\n",
    "                query += f\" and end date = '{project_i['project__end_date']}'\"\n",
    "            query += \")\"\n",
    "\n",
    "            if len(documents)>2:\n",
    "                try:\n",
    "                    relevant_documents = get_relevant_documents(query, documents, retriever)\n",
    "                except Exception as err:\n",
    "                    print(f\"[ERROR] get_relevant_documents error: {err}\")\n",
    "                    relevant_documents = documents\n",
    "            else:\n",
    "                relevant_documents = documents\n",
    "                \n",
    "            print(f\"relevant docs : {len(relevant_documents)}\", end=\" | \")\n",
    "\n",
    "            # 2. Invoke the LLM\n",
    "\n",
    "            prompt = (query + f\"\"\"Format the extracted text into a string (with bullet points).\n",
    "Resume:\\n\\n ```{relevant_documents}```\"\"\" )\n",
    "\n",
    "            print(f\"prompt tokens: {sum(tiktoken_tokens([prompt]))}\", end=\" | \")\n",
    "\n",
    "            response = llm.invoke(prompt)\n",
    "\n",
    "            response_content = response.content\n",
    "            project_i[\"project__description\"] = response_content\n",
    "            print(f\"\"\"response tokens: {sum(tiktoken_tokens([response_content]))}\"\"\")\n",
    "\n",
    "        except Exception as exception:\n",
    "            project_i[\"project__description\"] = \"unknown\"\n",
    "            print(exception)\n",
    "\n",
    "    return PROFESSIONAL_EXPERIENCE"
   ]
  },
  {
   "cell_type": "code",
   "execution_count": 46,
   "id": "d03275e2-b4bb-4c46-a2ca-ebd5caabfa0f",
   "metadata": {},
   "outputs": [
    {
     "name": "stdout",
     "output_type": "stream",
     "text": [
      "**17:27:23** \tExtract project details...\n",
      "0: Chat with Your Data Using Retrieval Augmented Generation | relevant docs : 1 | prompt tokens: 789 | response tokens: 45\n",
      "1: Improve Resume Using the Power of LLM | relevant docs : 1 | prompt tokens: 788 | response tokens: 36\n",
      "CPU times: total: 0 ns\n",
      "Wall time: 6.19 s\n"
     ]
    },
    {
     "data": {
      "text/plain": [
       "[{'project__title': 'Chat with Your Data Using Retrieval Augmented Generation',\n",
       "  'project__start_date': 'unknown',\n",
       "  'project__end_date': 'unknown',\n",
       "  'project__description': '```\\n- Implemented a conversational AI system using retrieval augmented generation techniques.\\n- Leveraged natural language processing models to enable users to interact with data through chat interfaces.\\n- Enhanced user experience and accessibility of data-driven insights.\\n```'},\n",
       " {'project__title': 'Improve Resume Using the Power of LLM',\n",
       "  'project__start_date': 'unknown',\n",
       "  'project__end_date': 'unknown',\n",
       "  'project__description': '```\\n- Applied large language model (LLM) techniques to optimize and personalize resume content.\\n- Utilized advanced natural language processing algorithms to highlight key skills and achievements effectively.\\n```'}]"
      ]
     },
     "execution_count": 46,
     "metadata": {},
     "output_type": "execute_result"
    }
   ],
   "source": [
    "%%time\n",
    "\n",
    "PROFESSIONAL_EXPERIENCE = Extract_Project_Details(llm,documents,retriever,PROFESSIONAL_EXPERIENCE)\n",
    "PROFESSIONAL_EXPERIENCE['CV__Projects']"
   ]
  },
  {
   "cell_type": "markdown",
   "id": "b25732a8",
   "metadata": {},
   "source": [
    "## <a class=\"anchor\" id=\"improve_workExp\">Improve the work experience section</a>\n",
    "\n",
    "In this section we will improve each bullet point in the work experience responsibilities. The following prompt is passed to the LLM. It contains a placeholder for the language of the assistant and the context (i.e. list of work experience bullet points)."
   ]
  },
  {
   "cell_type": "code",
   "execution_count": 47,
   "id": "abb22976-0409-4bbd-ba41-3853714c76d7",
   "metadata": {},
   "outputs": [],
   "source": [
    "PROMPT_IMPROVE_WORK_EXPERIENCE = \"\"\"you are given a work experience text delimited by triple backticks.\n",
    "1. Rate the quality of the work experience text by giving an integer score from 0 to 100. \n",
    "2. Suggest in {language} how to make the work experience text better and stronger.\n",
    "3. Strengthen the work experience text to make it more appealing to a recruiter in {language}. \\\n",
    "Provide additional details on responsibilities and quantify results for each bullet point. \\\n",
    "Format the output as a string.\n",
    "4. Output a json object that contains the following keys: Score__WorkExperience, Comments__WorkExperience, Improvement__WorkExperience.\n",
    "\n",
    "Work experience text: ```{text}```\n",
    "\"\"\" "
   ]
  },
  {
   "cell_type": "code",
   "execution_count": 48,
   "id": "b8a2126b-a980-43b9-b0bc-1c94770881d9",
   "metadata": {},
   "outputs": [],
   "source": [
    "def improve_text_quality(PROMPT,text_to_imporve,llm,language=ASSISTAN_LANGUAGE):\n",
    "    \"\"\"Invoke LLM to improve the text quality.\"\"\"\n",
    "    query = PROMPT.format(text=text_to_imporve,language=language)\n",
    "    response = llm.invoke(query)\n",
    "    return response"
   ]
  },
  {
   "cell_type": "code",
   "execution_count": 49,
   "id": "6690b3a9-3a3a-4d23-80ea-85fdd091e8ae",
   "metadata": {},
   "outputs": [],
   "source": [
    "def improve_work_experience(WORK_EXPERIENCE:list,llm):\n",
    "    \"\"\"Use LLM to improve each bullet point in the work experience responsibilities.\"\"\"\n",
    "    \n",
    "    print(f\"Improve text quality of work Experience...\\n\")\n",
    "    \n",
    "    # Call LLM for any work experience to get a better and stronger text.\n",
    "    for i in range(len(WORK_EXPERIENCE)):\n",
    "    \n",
    "        WORK_EXPERIENCE_i = WORK_EXPERIENCE[i] \n",
    "        \n",
    "        print(f\"{i}: {WORK_EXPERIENCE_i['job__title']}\",end=\" | \")\n",
    "\n",
    "        # 1. Convert the duties from dict to string\n",
    "\n",
    "        text_duties = \"\"\n",
    "        for duty in list(WORK_EXPERIENCE_i['work__duties'].values()):\n",
    "            text_duties += \"- \" + duty \n",
    "\n",
    "        # 2. Invoke the LLM\n",
    "\n",
    "        response = improve_text_quality(PROMPT_IMPROVE_WORK_EXPERIENCE,text_duties,llm)\n",
    "        response_content = response.content\n",
    "\n",
    "        # 3. Convert response content to json dict with keys: \n",
    "        # ('Score__WorkExperience','Comments__WorkExperience','Improvement__WorkExperience')\n",
    "        \n",
    "        response_content = response_content[response_content.find(\"{\"):response_content.rfind(\"}\")+1]\n",
    "        print(f\"\"\"response tokens: {sum(tiktoken_tokens([response_content]))}\"\"\", end=\"\\n\")\n",
    "        \n",
    "        try:\n",
    "            list_fields = ['Score__WorkExperience','Comments__WorkExperience','Improvement__WorkExperience']\n",
    "            list_rfind = [\",\\n\",\",\\n\",\"\\n\"] \n",
    "            list_exclude_first_car = [False,True,True] \n",
    "            response_content_dict = ResponseContent_Parser(response_content,list_fields,list_rfind,list_exclude_first_car)\n",
    "            try:\n",
    "                response_content_dict['Score__WorkExperience'] = int(response_content_dict['Score__WorkExperience'])\n",
    "            except:\n",
    "                response_content_dict['Score__WorkExperience'] = -1\n",
    "            \n",
    "        except Exception as e:\n",
    "            response_content_dict = {\n",
    "                'Score__WorkExperience':-1,\n",
    "                'Comments__WorkExperience':\"\",\n",
    "                'Improvement__WorkExperience':\"\"}\n",
    "            print(e)\n",
    "            \n",
    "\n",
    "        # 4. Update PROFESSIONAL_EXPERIENCE dictionary:\n",
    "\n",
    "        WORK_EXPERIENCE_i['Score__WorkExperience'] = response_content_dict['Score__WorkExperience']\n",
    "        WORK_EXPERIENCE_i['Comments__WorkExperience'] = response_content_dict['Comments__WorkExperience']\n",
    "        WORK_EXPERIENCE_i['Improvement__WorkExperience'] = response_content_dict['Improvement__WorkExperience']\n",
    "\n",
    "    return WORK_EXPERIENCE"
   ]
  },
  {
   "cell_type": "code",
   "execution_count": 50,
   "id": "def08300-07e3-4b3e-86fd-b0f253733f59",
   "metadata": {
    "scrolled": true
   },
   "outputs": [
    {
     "name": "stdout",
     "output_type": "stream",
     "text": [
      "Improve text quality of work Experience...\n",
      "\n",
      "0: Data Scientist | response tokens: 225\n",
      "1: Data Scientist | response tokens: 232\n",
      "CPU times: total: 15.6 ms\n",
      "Wall time: 18 s\n"
     ]
    },
    {
     "data": {
      "text/plain": [
       "[{'job__title': 'Data Scientist',\n",
       "  'job__company': 'Company Y',\n",
       "  'job__start_date': '2019',\n",
       "  'job__end_date': '2024',\n",
       "  'work__duties': {'1': 'Led a team of data scientists in developing machine learning models for predictive analytics.',\n",
       "   '2': 'Utilized TensorFlow and PyTorch for deep learning projects, achieving significant improvements in model accuracy.',\n",
       "   '3': 'Implemented Spark and Spark MLlib for big data processing, optimizing performance and scalability.',\n",
       "   '4': 'Conducted data analysis using Tableau and Plotly, generating actionable insights for business stakeholders.',\n",
       "   '5': 'Collaborated with cross-functional teams to deploy machine learning solutions into production environments.',\n",
       "   '6': 'Mentored junior team members, fostering their professional growth and development.'},\n",
       "  'Score__WorkExperience': 75,\n",
       "  'Comments__WorkExperience': \"- The work experience text is well-written and provides a good overview of the candidate's skills and experience.\\\\n- However, the text could be improved by quantifying results for each bullet point and providing additional details on responsibilities.\",\n",
       "  'Improvement__WorkExperience': '- Led a team of data scientists in developing machine learning models for predictive analytics, resulting in a 15% increase in accuracy.\\\\n- Utilized TensorFlow and PyTorch for deep learning projects, achieving a 20% improvement in model performance.\\\\n- Implemented Spark and Spark MLlib for big data processing, optimizing performance by 30% and scalability by 25%.\\\\n- Conducted data analysis using Tableau and Plotly, generating actionable insights that led to a 10% increase in revenue.\\\\n- Collaborated with cross-functional teams to deploy machine learning solutions into production environments, reducing deployment time by 20%.\\\\n- Mentored junior team members, fostering their professional growth and development, resulting in a 15% increase in productivity.'},\n",
       " {'job__title': 'Data Scientist',\n",
       "  'job__company': 'Company X',\n",
       "  'job__start_date': '2014',\n",
       "  'job__end_date': '2019',\n",
       "  'work__duties': {'1': 'Spearheaded data science initiatives, focusing on improving customer engagement and retention.',\n",
       "   '2': 'Employed Python, Pandas, and Scikit-learn for data preprocessing and predictive modeling tasks.',\n",
       "   '3': 'Managed MySQL and Oracle databases, ensuring data integrity and accessibility for analysis.',\n",
       "   '4': 'Developed web applications using Flask and HTML to visualize and interact with data.',\n",
       "   '5': 'Served as a team leader, coordinating project timelines and priorities to meet business objectives.',\n",
       "   '6': 'Demonstrated adaptability in rapidly evolving business environments, delivering solutions on time and within budget.'},\n",
       "  'Score__WorkExperience': 70,\n",
       "  'Comments__WorkExperience': \"- The work experience text is well-written and provides a good overview of the candidate's skills and experience.\\\\n- However, the text could be improved by quantifying results for each bullet point and providing additional details on responsibilities.\",\n",
       "  'Improvement__WorkExperience': '- Spearheaded data science initiatives that improved customer engagement by 15% and retention by 10%.\\\\n- Employed Python, Pandas, and Scikit-learn for data preprocessing and predictive modeling tasks, resulting in a 20% increase in model accuracy.\\\\n- Managed MySQL and Oracle databases, ensuring 99.9% data integrity and accessibility for analysis.\\\\n- Developed web applications using Flask and HTML to visualize and interact with data, leading to a 30% increase in user engagement.\\\\n- Served as a team leader, coordinating project timelines and priorities to meet business objectives, resulting in a 15% reduction in project completion time.\\\\n- Demonstrated adaptability in rapidly evolving business environments, delivering solutions on time and within budget, exceeding expectations by 10%.'}]"
      ]
     },
     "execution_count": 50,
     "metadata": {},
     "output_type": "execute_result"
    }
   ],
   "source": [
    "%%time\n",
    "PROFESSIONAL_EXPERIENCE['Work__experience'] = improve_work_experience(PROFESSIONAL_EXPERIENCE['Work__experience'],llm)\n",
    "\n",
    "PROFESSIONAL_EXPERIENCE['Work__experience']"
   ]
  },
  {
   "cell_type": "code",
   "execution_count": 51,
   "id": "d0331d28",
   "metadata": {},
   "outputs": [
    {
     "data": {
      "text/markdown": [
       "- Led a team of data scientists in developing machine learning models for predictive analytics, resulting in a 15% increase in accuracy.\\n- Utilized TensorFlow and PyTorch for deep learning projects, achieving a 20% improvement in model performance.\\n- Implemented Spark and Spark MLlib for big data processing, optimizing performance by 30% and scalability by 25%.\\n- Conducted data analysis using Tableau and Plotly, generating actionable insights that led to a 10% increase in revenue.\\n- Collaborated with cross-functional teams to deploy machine learning solutions into production environments, reducing deployment time by 20%.\\n- Mentored junior team members, fostering their professional growth and development, resulting in a 15% increase in productivity."
      ],
      "text/plain": [
       "<IPython.core.display.Markdown object>"
      ]
     },
     "execution_count": 51,
     "metadata": {},
     "output_type": "execute_result"
    }
   ],
   "source": [
    "Markdown(PROFESSIONAL_EXPERIENCE['Work__experience'][0]['Improvement__WorkExperience'])"
   ]
  },
  {
   "cell_type": "markdown",
   "id": "14207ffa-4c2b-4700-a8e4-83d08ef2291e",
   "metadata": {},
   "source": [
    ">**Please note that the numbers displayed here are fictitious and generated by AI. Please only report your actual achievements, as no application can determine what you have accomplished.**"
   ]
  },
  {
   "cell_type": "markdown",
   "id": "ec7d7465",
   "metadata": {},
   "source": [
    "## <a class=\"anchor\" id=\"improve_projects\">Improve the projects section</a>"
   ]
  },
  {
   "cell_type": "code",
   "execution_count": 52,
   "id": "7533db26",
   "metadata": {},
   "outputs": [],
   "source": [
    "PROMPT_IMPROVE_PROJECT = \"\"\"you are given a project text delimited by triple backticks.\n",
    "1. Rate the quality of the project text by giving an integer score from 0 to 100. \n",
    "2. Suggest in {language} how to make the project text better and stronger.\n",
    "3. Strengthen the project text to make it more appealing to a recruiter in {language}, \\\n",
    "including the problem, the approach taken, the tools used and quantifiable results. \\\n",
    "Format the output as a string.\n",
    "4. Output a json object with the following keys: Score__project, Comments__project, Improvement__project.\n",
    "\n",
    "project text: ```{text}```\n",
    "\"\"\""
   ]
  },
  {
   "cell_type": "code",
   "execution_count": 53,
   "id": "aeec9443",
   "metadata": {},
   "outputs": [],
   "source": [
    "def improve_projects(PROJECTS:list,llm):\n",
    "    \"\"\"Use LLM to improve project text.\"\"\"\n",
    " \n",
    "    print(f\"Improve text quality of the projects...\\n\")    \n",
    "    \n",
    "    for i in range(len(PROJECTS)):\n",
    "        \n",
    "        PROJECT_i = PROJECTS[i]  \n",
    "        \n",
    "        print(f\"{i}: {PROJECTS[i]['project__title']}\",end=\" | \")\n",
    "        \n",
    "        # 1. Use the LLM to improve the text quality of each duty\n",
    "        response = improve_text_quality(\n",
    "            PROMPT_IMPROVE_PROJECT,\n",
    "            PROJECT_i['project__title']+\"\\n\"+PROJECT_i['project__description'],\n",
    "            llm\n",
    "        )\n",
    "        response_content = response.content\n",
    "        \n",
    "        # 2. Convert response content to json dict with keys: \n",
    "        # ('Score__project','Comments__project','Improvement__project')\n",
    "        \n",
    "        response_content = response_content[response_content.find(\"{\"):response_content.rfind(\"}\")+1]\n",
    "        print(f\"\"\"response tokens: {sum(tiktoken_tokens([response_content]))}\"\"\", end=\"\\n\")\n",
    "        \n",
    "        try:\n",
    "            list_fields = ['Score__project','Comments__project','Improvement__project']\n",
    "            list_rfind = [\",\\n\",\",\\n\",\"\\n\"] \n",
    "            list_exclude_first_car = [False,True,True] \n",
    "            \n",
    "            response_content_dict = ResponseContent_Parser(response_content,list_fields,list_rfind,list_exclude_first_car)\n",
    "            try:\n",
    "                response_content_dict['Score__project'] = int(response_content_dict['Score__project'])\n",
    "            except:\n",
    "                response_content_dict['Score__project'] = 0\n",
    "            \n",
    "        except Exception as e:\n",
    "            response_content_dict = {\n",
    "                'Score__project':0,\n",
    "                'Comments__project':\"\",\n",
    "                'Improvement__project':\"\"}\n",
    "            print(e)\n",
    "  \n",
    "        # 3. Update PROJECTS\n",
    "        PROJECT_i[\"Overall_quality\"] = response_content_dict[\"Score__project\"]\n",
    "        PROJECT_i[\"Comments\"] = response_content_dict[\"Comments__project\"]\n",
    "        PROJECT_i[\"Improvement\"] = response_content_dict[\"Improvement__project\"]\n",
    "    \n",
    "    return PROJECTS"
   ]
  },
  {
   "cell_type": "code",
   "execution_count": 55,
   "id": "6aafcd85",
   "metadata": {},
   "outputs": [
    {
     "name": "stdout",
     "output_type": "stream",
     "text": [
      "Improve text quality of the projects...\n",
      "\n",
      "0: Chat with Your Data Using Retrieval Augmented Generation | response tokens: 242\n",
      "1: Improve Resume Using the Power of LLM | response tokens: 201\n",
      "CPU times: total: 31.2 ms\n",
      "Wall time: 14.6 s\n"
     ]
    },
    {
     "data": {
      "text/plain": [
       "[{'project__title': 'Chat with Your Data Using Retrieval Augmented Generation',\n",
       "  'project__start_date': 'unknown',\n",
       "  'project__end_date': 'unknown',\n",
       "  'project__description': '```\\n- Implemented a conversational AI system using retrieval augmented generation techniques.\\n- Leveraged natural language processing models to enable users to interact with data through chat interfaces.\\n- Enhanced user experience and accessibility of data-driven insights.\\n```',\n",
       "  'Overall_quality': 70,\n",
       "  'Comments': 'The project text is clear and concise, and it provides a good overview of the project. However, it could be improved by providing more specific details about the conversational AI system, such as the specific techniques used and the results achieved. Additionally, the text could be strengthened by providing more context about the problem that the system is solving and the benefits that it provides to users.',\n",
       "  'Improvement': '**Problem:** Users often struggle to access and understand data-driven insights.\\\\n\\\\n**Approach:** We developed a conversational AI system that uses retrieval augmented generation techniques to enable users to interact with data through chat interfaces. This system leverages natural language processing models to understand user queries and generate informative responses.\\\\n\\\\n**Tools:** We used a variety of tools to develop our system, including the Hugging Face Transformers library, the spaCy NLP library, and the Google Cloud Platform.\\\\n\\\\n**Results:** Our system has been shown to improve user experience and accessibility of data-driven insights. In a user study, participants were able to complete tasks using our system 20% faster than using traditional methods.'},\n",
       " {'project__title': 'Improve Resume Using the Power of LLM',\n",
       "  'project__start_date': 'unknown',\n",
       "  'project__end_date': 'unknown',\n",
       "  'project__description': '```\\n- Applied large language model (LLM) techniques to optimize and personalize resume content.\\n- Utilized advanced natural language processing algorithms to highlight key skills and achievements effectively.\\n```',\n",
       "  'Overall_quality': 60,\n",
       "  'Comments': 'The project text could be improved by providing more specific details about the LLM techniques and natural language processing algorithms used. Additionally, it would be helpful to include quantifiable results to demonstrate the impact of the project.',\n",
       "  'Improvement': \"**Improved Project Text:**\\\\n\\\\n**Problem:** Resumes often fail to effectively showcase an individual's skills and achievements, making it difficult for recruiters to identify suitable candidates.\\\\n\\\\n**Approach:** This project leveraged the power of large language models (LLMs) and advanced natural language processing (NLP) algorithms to optimize and personalize resume content.\\\\n\\\\n**Tools Used:**\\\\n\\\\n* GPT-3\\\\n* spaCy\\\\n* NLTK\\\\n\\\\n**Quantifiable Results:**\\\\n\\\\n* Increased resume response rate by 25%\\\\n* Reduced time spent on resume writing by 50%\\\\n* Improved candidate quality by 15%\"}]"
      ]
     },
     "execution_count": 55,
     "metadata": {},
     "output_type": "execute_result"
    }
   ],
   "source": [
    "%%time\n",
    "PROFESSIONAL_EXPERIENCE['CV__Projects'] = improve_projects(PROFESSIONAL_EXPERIENCE['CV__Projects'],llm)\n",
    "\n",
    "PROFESSIONAL_EXPERIENCE['CV__Projects']"
   ]
  },
  {
   "cell_type": "markdown",
   "id": "d9f663dc",
   "metadata": {},
   "source": [
    "## <a class=\"anchor\" id=\"evaluate_resume\">Evaluate the Resume</a>\n",
    "\n",
    "Here we will evaluate, outline, and analyse the resume's top 3 strengths and top 3 weaknesses."
   ]
  },
  {
   "cell_type": "code",
   "execution_count": 56,
   "id": "dc5f4efc-499f-4aa1-a77c-885b2c6312e5",
   "metadata": {},
   "outputs": [],
   "source": [
    "PROMPT_EVALUATE_RESUME = \"\"\"You are given a resume delimited by triple backticks. \n",
    "1. Provide an overview of the resume in {language}.\n",
    "2. Assess the resume and provide a detailed analysis of its top 3 strengths. \\\n",
    "Format the top 3 strengths as a triple-bulleted string in {language}.\n",
    "3. Assess the resume and provide a detailed analysis of its top 3 weaknesses. \\\n",
    "Format the top 3 weaknesses as a triple-bulleted string in {language}.\n",
    "4. Output a json object that contains the following keys: resume_cv_overview, top_3_strengths, top_3_weaknesses.\n",
    "\n",
    "The strengths and weaknesses lie in the format, style and content of the resume.\n",
    "\n",
    "resume: ```{text}```\n",
    "\"\"\"\n",
    "\n",
    "prompt_template = PromptTemplate.from_template(PROMPT_EVALUATE_RESUME)"
   ]
  },
  {
   "cell_type": "code",
   "execution_count": 57,
   "id": "3e1e13d2-be9a-4980-80dc-63fcc2d59576",
   "metadata": {},
   "outputs": [],
   "source": [
    "def Evaluate_the_Resume(llm,documents):\n",
    "    \"\"\"Evaluate, outline and analyse the resume's top 3 strengths and top 3 weaknesses.\"\"\"\n",
    "    try:\n",
    "        prompt_template = PromptTemplate.from_template(PROMPT_EVALUATE_RESUME)\n",
    "        prompt = prompt_template.format_prompt(text=documents, language=ASSISTAN_LANGUAGE).text\n",
    "\n",
    "        response = llm.invoke(prompt)\n",
    "        response_content = response.content[response.content.find(\"{\") : response.content.rfind(\"}\") + 1]\n",
    "\n",
    "        try:            \n",
    "            RESUME_EVALUATION = json.loads(response_content) # Convert response_content to json dictionary\n",
    "        except:\n",
    "            print(\"[ERROR] json.loads returns error:\", e)\n",
    "            print(\"\\n['INFO'] Parse response content...\\n\")\n",
    "            list_fields = [\"resume_cv_overview\", \"top_3_strengths\", \"top_3_weaknesses\"]\n",
    "            list_rfind = [\",\\n\", \",\\n\", \"\\n\"]\n",
    "            list_exclude_first_car = [True, True, True]\n",
    "            RESUME_EVALUATION = ResponseContent_Parser(response_content, list_fields, list_rfind, list_exclude_first_car)\n",
    "            \n",
    "    except Exception as error:\n",
    "        RESUME_EVALUATION = {\n",
    "            \"resume_cv_overview\": \"unknown\",\n",
    "            \"top_3_strengths\": \"unknown\",\n",
    "            \"top_3_weaknesses\": \"unknown\",\n",
    "        }\n",
    "        print(f\"An error occured: {error}\")\n",
    "\n",
    "    return RESUME_EVALUATION"
   ]
  },
  {
   "cell_type": "code",
   "execution_count": 58,
   "id": "358882f2-639e-4841-9dcf-c0f8ad8b4771",
   "metadata": {},
   "outputs": [
    {
     "name": "stdout",
     "output_type": "stream",
     "text": [
      "CPU times: total: 0 ns\n",
      "Wall time: 7.94 s\n"
     ]
    },
    {
     "data": {
      "text/plain": [
       "{'resume_cv_overview': 'The resume of Name Candidate showcases their experience as a data scientist with a strong foundation in programming languages, data science tools, and soft skills. They have a proven track record of leading teams, developing machine learning models, and implementing data science solutions in both Company X and Company Y. The resume highlights their expertise in TensorFlow, PyTorch, Spark, and other relevant technologies.',\n",
       " 'top_3_strengths': '- Strong technical skills\\n- Proven leadership and teamwork\\n- Adaptability and problem-solving',\n",
       " 'top_3_weaknesses': '- Lack of quantification\\n- Inconsistent formatting\\n- Limited visual appeal'}"
      ]
     },
     "execution_count": 58,
     "metadata": {},
     "output_type": "execute_result"
    }
   ],
   "source": [
    "%%time\n",
    "\n",
    "RESUME_EVALUATION = Evaluate_the_Resume(llm,documents)\n",
    "RESUME_EVALUATION"
   ]
  },
  {
   "cell_type": "markdown",
   "id": "26f25a9f-1501-4318-a14f-512ea326ea16",
   "metadata": {},
   "source": [
    "## <a class=\"anchor\" id=\"recap\">Putting it all together</a>"
   ]
  },
  {
   "cell_type": "code",
   "execution_count": 59,
   "id": "df8e6214-89eb-465e-a8e1-4ee778aecdb8",
   "metadata": {},
   "outputs": [],
   "source": [
    "SCANNED_RESUME = {}\n",
    "\n",
    "# 1. Create the dictionary: SCANNED_RESUME\n",
    "for d in [CONTACT_INFORMATION,SUMMARY_EVAL,Education_Language_sections,SKILLS_and_CERTIF,PROFESSIONAL_EXPERIENCE,RESUME_EVALUATION]:\n",
    "    SCANNED_RESUME.update(d)\n",
    "    \n",
    "# 2. Save the scanned resume to json file\n",
    "with open('./data/scanned_resume.json', 'w') as fp:\n",
    "    json.dump(SCANNED_RESUME, fp)"
   ]
  },
  {
   "cell_type": "code",
   "execution_count": 60,
   "id": "3c696e06-f78d-4476-9b21-1d64211f82fc",
   "metadata": {},
   "outputs": [
    {
     "data": {
      "text/plain": [
       "{'Contact__information': {'candidate__name': 'Name Candidate',\n",
       "  'candidate__title': 'Data Scientist',\n",
       "  'candidate__location': 'unknown',\n",
       "  'candidate__email': 'test@gmail.com',\n",
       "  'candidate__phone': '123456789',\n",
       "  'candidate__social_media': [],\n",
       "  'evaluation__ContactInfo': \"The contact information provided is complete and easy to find. It includes the candidate's name, title, email, and phone number. However, it does not include any social media profiles or website.\",\n",
       "  'score__ContactInfo': 80},\n",
       " 'Summary__evaluation': {'evaluation__summary': \"The summary is well-written and provides a good overview of the candidate's skills and experience. It is concise and easy to read, and it highlights the candidate's most relevant qualifications. However, the summary could be improved by providing more specific examples of the candidate's accomplishments.\",\n",
       "  'score__summary': 75,\n",
       "  'CV__summary_enhanced': 'Highly skilled and experienced data scientist with 10+ years of experience in both Company X and Company Y. Proficient in a range of programming languages and tools, including TensorFlow, PyTorch, Spark, Spark MLlib, Pandas, Scikit-learn, Tableau, and Plotly. Led a team of data scientists in developing machine learning models for predictive analytics, achieving significant improvements in model accuracy. Implemented Spark and Spark MLlib for big data processing, optimizing performance and scalability. Collaborated with cross-functional teams to deploy machine learning solutions into production environments. Seeking opportunities to leverage expertise in data science to drive innovation and business growth.'},\n",
       " 'CV__summary': 'Highly skilled and experienced data scientist with a track record of success in both Company \\nX and Company Y. Proficient in a range of programming languages and tools, with a strong \\nability to lead teams and adapt to new challenges. Seeking opportunities to leverage \\nexpertise in data science to drive innovation and business growth.',\n",
       " 'CV__Education': [{'edu__college': 'University U1',\n",
       "   'edu__degree': 'Master of Science in Data Science',\n",
       "   'edu__start_date': '2014',\n",
       "   'edu__end_date': 'unknown'}],\n",
       " 'Education__evaluation': {'score__edu': 70,\n",
       "  'evaluation__edu': \"The Education section is concise and provides the necessary information about the candidate's educational background. It includes the name of the college, the degree earned, and the start date. However, it lacks information about the end date and any honors or achievements. Providing this additional information would enhance the quality of the section.\"},\n",
       " 'CV__Languages': [{'spoken__language': 'French',\n",
       "   'language__fluency': 'unknown'},\n",
       "  {'spoken__language': 'English', 'language__fluency': 'unknown'},\n",
       "  {'spoken__language': 'Spanish', 'language__fluency': 'unknown'}],\n",
       " 'Languages__evaluation': {'score__language': 50,\n",
       "  'evaluation__language': \"The Languages section is brief and only lists the languages that the candidate can speak. It does not provide any information about the candidate's fluency in each language. Including this information would improve the quality of the section and provide a better understanding of the candidate's language skills.\"},\n",
       " 'candidate__skills': ['Python',\n",
       "  'Java',\n",
       "  'TensorFlow',\n",
       "  'PyTorch',\n",
       "  'Spark',\n",
       "  'Spark MLlib',\n",
       "  'Pandas',\n",
       "  'Scikit-learn',\n",
       "  'Tableau',\n",
       "  'Plotly',\n",
       "  'MySQL',\n",
       "  'Oracle',\n",
       "  'Flask',\n",
       "  'HTML',\n",
       "  'Team leadership',\n",
       "  'Adaptability'],\n",
       " 'Skills__evaluation': {'score__skills': 80,\n",
       "  'evaluation__skills': \"The Skills section is well-structured and provides a comprehensive list of both hard and soft skills. The skills are relevant to the data science field and demonstrate the candidate's proficiency in a wide range of technologies and techniques. However, the section could benefit from further elaboration on the candidate's experience and expertise in each skill.\"},\n",
       " 'CV__Certifications': [{'certif__title': 'TensorFlow Developer Certificate',\n",
       "   'certif__organization': 'unknown',\n",
       "   'certif__date': '2022',\n",
       "   'certif__expiry_date': '2025',\n",
       "   'certif__details': 'unknown'}],\n",
       " 'Certif__evaluation': {'score__certif': 70,\n",
       "  'evaluation__certif': \"The candidate has provided information about one certification, the TensorFlow Developer Certificate. While this certification is relevant to the data science field, it would be beneficial to include more details about the certification, such as the issuing organization and any specific skills or knowledge it covers. Additionally, providing information about any other relevant certifications would enhance the credibility of the candidate's qualifications.\"},\n",
       " 'Work__experience': [{'job__title': 'Data Scientist',\n",
       "   'job__company': 'Company Y',\n",
       "   'job__start_date': '2019',\n",
       "   'job__end_date': '2024',\n",
       "   'work__duties': {'1': 'Led a team of data scientists in developing machine learning models for predictive analytics.',\n",
       "    '2': 'Utilized TensorFlow and PyTorch for deep learning projects, achieving significant improvements in model accuracy.',\n",
       "    '3': 'Implemented Spark and Spark MLlib for big data processing, optimizing performance and scalability.',\n",
       "    '4': 'Conducted data analysis using Tableau and Plotly, generating actionable insights for business stakeholders.',\n",
       "    '5': 'Collaborated with cross-functional teams to deploy machine learning solutions into production environments.',\n",
       "    '6': 'Mentored junior team members, fostering their professional growth and development.'},\n",
       "   'Score__WorkExperience': 75,\n",
       "   'Comments__WorkExperience': \"- The work experience text is well-written and provides a good overview of the candidate's skills and experience.\\\\n- However, the text could be improved by quantifying results for each bullet point and providing additional details on responsibilities.\",\n",
       "   'Improvement__WorkExperience': '- Led a team of data scientists in developing machine learning models for predictive analytics, resulting in a 15% increase in accuracy.\\\\n- Utilized TensorFlow and PyTorch for deep learning projects, achieving a 20% improvement in model performance.\\\\n- Implemented Spark and Spark MLlib for big data processing, optimizing performance by 30% and scalability by 25%.\\\\n- Conducted data analysis using Tableau and Plotly, generating actionable insights that led to a 10% increase in revenue.\\\\n- Collaborated with cross-functional teams to deploy machine learning solutions into production environments, reducing deployment time by 20%.\\\\n- Mentored junior team members, fostering their professional growth and development, resulting in a 15% increase in productivity.'},\n",
       "  {'job__title': 'Data Scientist',\n",
       "   'job__company': 'Company X',\n",
       "   'job__start_date': '2014',\n",
       "   'job__end_date': '2019',\n",
       "   'work__duties': {'1': 'Spearheaded data science initiatives, focusing on improving customer engagement and retention.',\n",
       "    '2': 'Employed Python, Pandas, and Scikit-learn for data preprocessing and predictive modeling tasks.',\n",
       "    '3': 'Managed MySQL and Oracle databases, ensuring data integrity and accessibility for analysis.',\n",
       "    '4': 'Developed web applications using Flask and HTML to visualize and interact with data.',\n",
       "    '5': 'Served as a team leader, coordinating project timelines and priorities to meet business objectives.',\n",
       "    '6': 'Demonstrated adaptability in rapidly evolving business environments, delivering solutions on time and within budget.'},\n",
       "   'Score__WorkExperience': 70,\n",
       "   'Comments__WorkExperience': \"- The work experience text is well-written and provides a good overview of the candidate's skills and experience.\\\\n- However, the text could be improved by quantifying results for each bullet point and providing additional details on responsibilities.\",\n",
       "   'Improvement__WorkExperience': '- Spearheaded data science initiatives that improved customer engagement by 15% and retention by 10%.\\\\n- Employed Python, Pandas, and Scikit-learn for data preprocessing and predictive modeling tasks, resulting in a 20% increase in model accuracy.\\\\n- Managed MySQL and Oracle databases, ensuring 99.9% data integrity and accessibility for analysis.\\\\n- Developed web applications using Flask and HTML to visualize and interact with data, leading to a 30% increase in user engagement.\\\\n- Served as a team leader, coordinating project timelines and priorities to meet business objectives, resulting in a 15% reduction in project completion time.\\\\n- Demonstrated adaptability in rapidly evolving business environments, delivering solutions on time and within budget, exceeding expectations by 10%.'}],\n",
       " 'CV__Projects': [{'project__title': 'Chat with Your Data Using Retrieval Augmented Generation',\n",
       "   'project__start_date': 'unknown',\n",
       "   'project__end_date': 'unknown',\n",
       "   'project__description': '```\\n- Implemented a conversational AI system using retrieval augmented generation techniques.\\n- Leveraged natural language processing models to enable users to interact with data through chat interfaces.\\n- Enhanced user experience and accessibility of data-driven insights.\\n```',\n",
       "   'Overall_quality': 70,\n",
       "   'Comments': 'The project text is clear and concise, and it provides a good overview of the project. However, it could be improved by providing more specific details about the conversational AI system, such as the specific techniques used and the results achieved. Additionally, the text could be strengthened by providing more context about the problem that the system is solving and the benefits that it provides to users.',\n",
       "   'Improvement': '**Problem:** Users often struggle to access and understand data-driven insights.\\\\n\\\\n**Approach:** We developed a conversational AI system that uses retrieval augmented generation techniques to enable users to interact with data through chat interfaces. This system leverages natural language processing models to understand user queries and generate informative responses.\\\\n\\\\n**Tools:** We used a variety of tools to develop our system, including the Hugging Face Transformers library, the spaCy NLP library, and the Google Cloud Platform.\\\\n\\\\n**Results:** Our system has been shown to improve user experience and accessibility of data-driven insights. In a user study, participants were able to complete tasks using our system 20% faster than using traditional methods.'},\n",
       "  {'project__title': 'Improve Resume Using the Power of LLM',\n",
       "   'project__start_date': 'unknown',\n",
       "   'project__end_date': 'unknown',\n",
       "   'project__description': '```\\n- Applied large language model (LLM) techniques to optimize and personalize resume content.\\n- Utilized advanced natural language processing algorithms to highlight key skills and achievements effectively.\\n```',\n",
       "   'Overall_quality': 60,\n",
       "   'Comments': 'The project text could be improved by providing more specific details about the LLM techniques and natural language processing algorithms used. Additionally, it would be helpful to include quantifiable results to demonstrate the impact of the project.',\n",
       "   'Improvement': \"**Improved Project Text:**\\\\n\\\\n**Problem:** Resumes often fail to effectively showcase an individual's skills and achievements, making it difficult for recruiters to identify suitable candidates.\\\\n\\\\n**Approach:** This project leveraged the power of large language models (LLMs) and advanced natural language processing (NLP) algorithms to optimize and personalize resume content.\\\\n\\\\n**Tools Used:**\\\\n\\\\n* GPT-3\\\\n* spaCy\\\\n* NLTK\\\\n\\\\n**Quantifiable Results:**\\\\n\\\\n* Increased resume response rate by 25%\\\\n* Reduced time spent on resume writing by 50%\\\\n* Improved candidate quality by 15%\"}],\n",
       " 'resume_cv_overview': 'The resume of Name Candidate showcases their experience as a data scientist with a strong foundation in programming languages, data science tools, and soft skills. They have a proven track record of leading teams, developing machine learning models, and implementing data science solutions in both Company X and Company Y. The resume highlights their expertise in TensorFlow, PyTorch, Spark, and other relevant technologies.',\n",
       " 'top_3_strengths': '- Strong technical skills\\n- Proven leadership and teamwork\\n- Adaptability and problem-solving',\n",
       " 'top_3_weaknesses': '- Lack of quantification\\n- Inconsistent formatting\\n- Limited visual appeal'}"
      ]
     },
     "execution_count": 60,
     "metadata": {},
     "output_type": "execute_result"
    }
   ],
   "source": [
    "# 3. Load the json file (scanned resume)\n",
    "f = open('./data/scanned_resume.json')\n",
    "SCANNED_RESUME = json.load(f)\n",
    "f.close()\n",
    "\n",
    "SCANNED_RESUME"
   ]
  },
  {
   "cell_type": "markdown",
   "id": "362d9d5d-b72c-4aea-9c21-d233cd7d4e00",
   "metadata": {},
   "source": [
    "## <a class=\"anchor\" id=\"app\">Streamlit application</a>\n",
    "\n",
    "We built a simple Streamlit application. Here is a screenshot..\r\n"
   ]
  },
  {
   "cell_type": "code",
   "execution_count": 61,
   "id": "8fb883ed-e0b1-40ec-9000-2df9c6fa7a42",
   "metadata": {},
   "outputs": [
    {
     "data": {
      "image/png": "[encoded data removed]",
      "text/plain": [
       "<PIL.PngImagePlugin.PngImageFile image mode=RGBA size=1306x624>"
      ]
     },
     "execution_count": 61,
     "metadata": {},
     "output_type": "execute_result"
    }
   ],
   "source": [
    "Image.open(\"./data/screen_Shots/app.png\")"
   ]
  },
  {
   "cell_type": "markdown",
   "id": "8decca92-836f-41d7-8d45-7bf8afbdad4e",
   "metadata": {},
   "source": [
    "- On the sidebar, you can select the LLM provider, a model, and adjust its parameters. Additionally, you can choose the assistant language.\n",
    "\n",
    "- To upload your resume in PDF format and analyse it, simply click the 'Analyze resume' button on the main panel. The scanned resume will then be displayed section by section, along with an assessment and improved version of each section."
   ]
  },
  {
   "cell_type": "markdown",
   "id": "576db5a8-a450-4d7f-9882-ecc40d9e08a9",
   "metadata": {},
   "source": [
    "## <a class=\"anchor\" id=\"conclusion\">Conclusion</a>"
   ]
  },
  {
   "cell_type": "markdown",
   "id": "5b9ec899-71ae-4b46-ab5e-4fece3defa52",
   "metadata": {},
   "source": [
    "In this project, we created a CV improver application in Streamlit powered by OpenAI and Google AI APIs.\n",
    "We used Langchain to create a retrieval system that includes a document loader and a CohereRerank retriever. We also utilized its built-in functions to create prompt templates and interact with the LLM.\n",
    "\n",
    "To guide the LLM to the desired output, we leveraged prompt engineering best practices by providing clear and specific instructions, outlining the steps to complete a task, and formatting the output as a JSON structured object.\n",
    "\n",
    "Finally, it is important to note that while LLMs are powerful, no application can accurately determine your accomplishments. AI applications can provide recommendations, but you should only report your actual achievements.\n"
   ]
  },
  {
   "cell_type": "code",
   "execution_count": null,
   "id": "c703770d-b10b-4a8c-b534-50cc2f846b3e",
   "metadata": {},
   "outputs": [],
   "source": []
  },
  {
   "cell_type": "code",
   "execution_count": null,
   "id": "2e7dd95c-a91d-47b3-8345-6d9e0f0ac98f",
   "metadata": {},
   "outputs": [],
   "source": []
  },
  {
   "cell_type": "code",
   "execution_count": null,
   "id": "8cc1bb2b-e116-4906-a680-16c77101b4ab",
   "metadata": {},
   "outputs": [],
   "source": []
  },
  {
   "cell_type": "code",
   "execution_count": null,
   "id": "1fd396bb-7866-42ea-80ca-8694577148dd",
   "metadata": {},
   "outputs": [],
   "source": []
  }
 ],
 "metadata": {
  "kernelspec": {
   "display_name": "Python 3 (ipykernel)",
   "language": "python",
   "name": "python3"
  },
  "language_info": {
   "codemirror_mode": {
    "name": "ipython",
    "version": 3
   },
   "file_extension": ".py",
   "mimetype": "text/x-python",
   "name": "python",
   "nbconvert_exporter": "python",
   "pygments_lexer": "ipython3",
   "version": "3.10.9"
  }
 },
 "nbformat": 4,
 "nbformat_minor": 5
}
